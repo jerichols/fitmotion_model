{
  "nbformat": 4,
  "nbformat_minor": 0,
  "metadata": {
    "colab": {
      "provenance": [],
      "include_colab_link": true
    },
    "kernelspec": {
      "name": "python3",
      "display_name": "Python 3"
    },
    "language_info": {
      "name": "python"
    }
  },
  "cells": [
    {
      "cell_type": "markdown",
      "metadata": {
        "id": "view-in-github",
        "colab_type": "text"
      },
      "source": [
        "<a href=\"https://colab.research.google.com/github/rayhannarindran/fitmotion_model/blob/main/trainingScript.ipynb\" target=\"_parent\"><img src=\"https://colab.research.google.com/assets/colab-badge.svg\" alt=\"Open In Colab\"/></a>"
      ]
    },
    {
      "cell_type": "code",
      "source": [
        "import tensorflow as tf\n",
        "import numpy as np\n",
        "import pandas as pd"
      ],
      "metadata": {
        "id": "VJH81fpjdKX6"
      },
      "execution_count": null,
      "outputs": []
    },
    {
      "cell_type": "markdown",
      "source": [
        "# **Dataset Initiation**"
      ],
      "metadata": {
        "id": "f8BXdcQqbSCU"
      }
    },
    {
      "cell_type": "code",
      "execution_count": null,
      "metadata": {
        "id": "OjBGvSDgaGPC",
        "outputId": "91315d68-652b-4e40-9b5a-b5759c455974",
        "colab": {
          "base_uri": "https://localhost:8080/"
        }
      },
      "outputs": [
        {
          "output_type": "stream",
          "name": "stdout",
          "text": [
            "test\n"
          ]
        }
      ],
      "source": []
    },
    {
      "cell_type": "markdown",
      "source": [
        "# **Model Training**"
      ],
      "metadata": {
        "id": "-ohXkfjVblpi"
      }
    },
    {
      "cell_type": "code",
      "source": [],
      "metadata": {
        "id": "BhcwCpEQbwUE"
      },
      "execution_count": null,
      "outputs": []
    },
    {
      "cell_type": "markdown",
      "source": [
        "# **Model Results and Testing**"
      ],
      "metadata": {
        "id": "4YB-PBC7bpwo"
      }
    },
    {
      "cell_type": "code",
      "source": [],
      "metadata": {
        "id": "vy3aU_2ubvy0"
      },
      "execution_count": null,
      "outputs": []
    }
  ]
}