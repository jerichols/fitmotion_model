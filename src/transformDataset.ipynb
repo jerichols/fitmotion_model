{
 "cells": [
  {
   "cell_type": "code",
   "execution_count": 20,
   "metadata": {},
   "outputs": [],
   "source": [
    "import csv\n",
    "import numpy as np\n",
    "import matplotlib.pyplot as plt\n",
    "import pandas as pd"
   ]
  },
  {
   "cell_type": "code",
   "execution_count": 21,
   "metadata": {},
   "outputs": [],
   "source": [
    "# import datas to compare\n",
    "data1_url = 'android_data/sensor_database28-SensorData.csv'\n",
    "data2_url = 'dataset/ups_12/sub_1.csv'\n",
    "\n",
    "data1 = pd.read_csv(data1_url, sep=';')\n",
    "data2 = pd.read_csv(data2_url)\n",
    "\n",
    "data1 = data1.dropna()\n",
    "data2 = data2.dropna()\n",
    "\n",
    "data1 = data1.drop(columns=['id'])\n",
    "data2 = data2.drop(columns=['Unnamed: 0'])"
   ]
  },
  {
   "cell_type": "code",
   "execution_count": 22,
   "metadata": {},
   "outputs": [
    {
     "data": {
      "text/html": [
       "<div>\n",
       "<style scoped>\n",
       "    .dataframe tbody tr th:only-of-type {\n",
       "        vertical-align: middle;\n",
       "    }\n",
       "\n",
       "    .dataframe tbody tr th {\n",
       "        vertical-align: top;\n",
       "    }\n",
       "\n",
       "    .dataframe thead th {\n",
       "        text-align: right;\n",
       "    }\n",
       "</style>\n",
       "<table border=\"1\" class=\"dataframe\">\n",
       "  <thead>\n",
       "    <tr style=\"text-align: right;\">\n",
       "      <th></th>\n",
       "      <th>Attitude Roll</th>\n",
       "      <th>Attitude Pitch</th>\n",
       "      <th>Attitude Azimuth</th>\n",
       "      <th>Gravity X</th>\n",
       "      <th>Gravity Y</th>\n",
       "      <th>Gravity Z</th>\n",
       "      <th>Rotation Rate X</th>\n",
       "      <th>Rotation Rate Y</th>\n",
       "      <th>Rotation Rate Z</th>\n",
       "      <th>User Acceleration X</th>\n",
       "      <th>User Acceleration Z</th>\n",
       "      <th>User Acceleration Y</th>\n",
       "    </tr>\n",
       "  </thead>\n",
       "  <tbody>\n",
       "    <tr>\n",
       "      <th>0</th>\n",
       "      <td>0.0000</td>\n",
       "      <td>0.0000</td>\n",
       "      <td>0.0000</td>\n",
       "      <td>0.0000</td>\n",
       "      <td>0.0000</td>\n",
       "      <td>0.0000</td>\n",
       "      <td>0.0085</td>\n",
       "      <td>-0.0065</td>\n",
       "      <td>-0.0005</td>\n",
       "      <td>5.0219</td>\n",
       "      <td>0.5073</td>\n",
       "      <td>-8.7601</td>\n",
       "    </tr>\n",
       "    <tr>\n",
       "      <th>1</th>\n",
       "      <td>0.0000</td>\n",
       "      <td>0.0000</td>\n",
       "      <td>0.0000</td>\n",
       "      <td>0.0000</td>\n",
       "      <td>0.0000</td>\n",
       "      <td>0.0000</td>\n",
       "      <td>0.0085</td>\n",
       "      <td>-0.0065</td>\n",
       "      <td>-0.0005</td>\n",
       "      <td>5.0219</td>\n",
       "      <td>0.5073</td>\n",
       "      <td>-8.7601</td>\n",
       "    </tr>\n",
       "    <tr>\n",
       "      <th>2</th>\n",
       "      <td>0.0000</td>\n",
       "      <td>0.0000</td>\n",
       "      <td>0.0000</td>\n",
       "      <td>4.8503</td>\n",
       "      <td>-8.5086</td>\n",
       "      <td>0.4984</td>\n",
       "      <td>0.0085</td>\n",
       "      <td>-0.0065</td>\n",
       "      <td>-0.0005</td>\n",
       "      <td>5.0219</td>\n",
       "      <td>0.5073</td>\n",
       "      <td>-8.7601</td>\n",
       "    </tr>\n",
       "    <tr>\n",
       "      <th>3</th>\n",
       "      <td>0.0000</td>\n",
       "      <td>0.0000</td>\n",
       "      <td>0.0000</td>\n",
       "      <td>4.8503</td>\n",
       "      <td>-8.5086</td>\n",
       "      <td>0.4984</td>\n",
       "      <td>0.0069</td>\n",
       "      <td>-0.0012</td>\n",
       "      <td>0.0013</td>\n",
       "      <td>5.0369</td>\n",
       "      <td>0.4875</td>\n",
       "      <td>-8.7338</td>\n",
       "    </tr>\n",
       "    <tr>\n",
       "      <th>4</th>\n",
       "      <td>0.0000</td>\n",
       "      <td>0.0000</td>\n",
       "      <td>0.0000</td>\n",
       "      <td>4.8503</td>\n",
       "      <td>-8.5086</td>\n",
       "      <td>0.4984</td>\n",
       "      <td>0.0069</td>\n",
       "      <td>-0.0012</td>\n",
       "      <td>0.0013</td>\n",
       "      <td>5.0369</td>\n",
       "      <td>0.4875</td>\n",
       "      <td>-8.7338</td>\n",
       "    </tr>\n",
       "  </tbody>\n",
       "</table>\n",
       "</div>"
      ],
      "text/plain": [
       "   Attitude Roll  Attitude Pitch  Attitude Azimuth  Gravity X  Gravity Y  \\\n",
       "0         0.0000          0.0000            0.0000     0.0000     0.0000   \n",
       "1         0.0000          0.0000            0.0000     0.0000     0.0000   \n",
       "2         0.0000          0.0000            0.0000     4.8503    -8.5086   \n",
       "3         0.0000          0.0000            0.0000     4.8503    -8.5086   \n",
       "4         0.0000          0.0000            0.0000     4.8503    -8.5086   \n",
       "\n",
       "   Gravity Z  Rotation Rate X  Rotation Rate Y  Rotation Rate Z  \\\n",
       "0     0.0000           0.0085          -0.0065          -0.0005   \n",
       "1     0.0000           0.0085          -0.0065          -0.0005   \n",
       "2     0.4984           0.0085          -0.0065          -0.0005   \n",
       "3     0.4984           0.0069          -0.0012           0.0013   \n",
       "4     0.4984           0.0069          -0.0012           0.0013   \n",
       "\n",
       "   User Acceleration X  User Acceleration Z  User Acceleration Y  \n",
       "0               5.0219               0.5073              -8.7601  \n",
       "1               5.0219               0.5073              -8.7601  \n",
       "2               5.0219               0.5073              -8.7601  \n",
       "3               5.0369               0.4875              -8.7338  \n",
       "4               5.0369               0.4875              -8.7338  "
      ]
     },
     "execution_count": 22,
     "metadata": {},
     "output_type": "execute_result"
    }
   ],
   "source": [
    "data1.head()"
   ]
  },
  {
   "cell_type": "code",
   "execution_count": 23,
   "metadata": {},
   "outputs": [
    {
     "data": {
      "text/html": [
       "<div>\n",
       "<style scoped>\n",
       "    .dataframe tbody tr th:only-of-type {\n",
       "        vertical-align: middle;\n",
       "    }\n",
       "\n",
       "    .dataframe tbody tr th {\n",
       "        vertical-align: top;\n",
       "    }\n",
       "\n",
       "    .dataframe thead th {\n",
       "        text-align: right;\n",
       "    }\n",
       "</style>\n",
       "<table border=\"1\" class=\"dataframe\">\n",
       "  <thead>\n",
       "    <tr style=\"text-align: right;\">\n",
       "      <th></th>\n",
       "      <th>attitude.roll</th>\n",
       "      <th>attitude.pitch</th>\n",
       "      <th>attitude.yaw</th>\n",
       "      <th>gravity.x</th>\n",
       "      <th>gravity.y</th>\n",
       "      <th>gravity.z</th>\n",
       "      <th>rotationRate.x</th>\n",
       "      <th>rotationRate.y</th>\n",
       "      <th>rotationRate.z</th>\n",
       "      <th>userAcceleration.x</th>\n",
       "      <th>userAcceleration.y</th>\n",
       "      <th>userAcceleration.z</th>\n",
       "    </tr>\n",
       "  </thead>\n",
       "  <tbody>\n",
       "    <tr>\n",
       "      <th>0</th>\n",
       "      <td>0.8385</td>\n",
       "      <td>-0.9016</td>\n",
       "      <td>0.1897</td>\n",
       "      <td>0.4613</td>\n",
       "      <td>0.7843</td>\n",
       "      <td>-0.4147</td>\n",
       "      <td>0.1272</td>\n",
       "      <td>2.8332</td>\n",
       "      <td>-0.2272</td>\n",
       "      <td>-0.0975</td>\n",
       "      <td>-0.0118</td>\n",
       "      <td>0.0794</td>\n",
       "    </tr>\n",
       "    <tr>\n",
       "      <th>1</th>\n",
       "      <td>0.9012</td>\n",
       "      <td>-0.9003</td>\n",
       "      <td>0.1778</td>\n",
       "      <td>0.4872</td>\n",
       "      <td>0.7835</td>\n",
       "      <td>-0.3856</td>\n",
       "      <td>0.0768</td>\n",
       "      <td>4.1651</td>\n",
       "      <td>-0.2816</td>\n",
       "      <td>0.3756</td>\n",
       "      <td>0.4922</td>\n",
       "      <td>0.4497</td>\n",
       "    </tr>\n",
       "    <tr>\n",
       "      <th>2</th>\n",
       "      <td>0.9931</td>\n",
       "      <td>-0.9150</td>\n",
       "      <td>0.1857</td>\n",
       "      <td>0.5109</td>\n",
       "      <td>0.7925</td>\n",
       "      <td>-0.3330</td>\n",
       "      <td>-0.7941</td>\n",
       "      <td>3.8792</td>\n",
       "      <td>-0.4881</td>\n",
       "      <td>0.0616</td>\n",
       "      <td>0.2608</td>\n",
       "      <td>0.4896</td>\n",
       "    </tr>\n",
       "    <tr>\n",
       "      <th>3</th>\n",
       "      <td>1.0295</td>\n",
       "      <td>-0.9219</td>\n",
       "      <td>0.1711</td>\n",
       "      <td>0.5179</td>\n",
       "      <td>0.7968</td>\n",
       "      <td>-0.3113</td>\n",
       "      <td>0.7019</td>\n",
       "      <td>1.7288</td>\n",
       "      <td>-0.5390</td>\n",
       "      <td>-0.1080</td>\n",
       "      <td>0.1337</td>\n",
       "      <td>-0.0242</td>\n",
       "    </tr>\n",
       "    <tr>\n",
       "      <th>4</th>\n",
       "      <td>1.0520</td>\n",
       "      <td>-0.9279</td>\n",
       "      <td>0.1562</td>\n",
       "      <td>0.5207</td>\n",
       "      <td>0.8003</td>\n",
       "      <td>-0.2973</td>\n",
       "      <td>-0.2339</td>\n",
       "      <td>2.0310</td>\n",
       "      <td>-0.4498</td>\n",
       "      <td>-0.0254</td>\n",
       "      <td>-0.0955</td>\n",
       "      <td>0.2760</td>\n",
       "    </tr>\n",
       "  </tbody>\n",
       "</table>\n",
       "</div>"
      ],
      "text/plain": [
       "   attitude.roll  attitude.pitch  attitude.yaw  gravity.x  gravity.y  \\\n",
       "0         0.8385         -0.9016        0.1897     0.4613     0.7843   \n",
       "1         0.9012         -0.9003        0.1778     0.4872     0.7835   \n",
       "2         0.9931         -0.9150        0.1857     0.5109     0.7925   \n",
       "3         1.0295         -0.9219        0.1711     0.5179     0.7968   \n",
       "4         1.0520         -0.9279        0.1562     0.5207     0.8003   \n",
       "\n",
       "   gravity.z  rotationRate.x  rotationRate.y  rotationRate.z  \\\n",
       "0    -0.4147          0.1272          2.8332         -0.2272   \n",
       "1    -0.3856          0.0768          4.1651         -0.2816   \n",
       "2    -0.3330         -0.7941          3.8792         -0.4881   \n",
       "3    -0.3113          0.7019          1.7288         -0.5390   \n",
       "4    -0.2973         -0.2339          2.0310         -0.4498   \n",
       "\n",
       "   userAcceleration.x  userAcceleration.y  userAcceleration.z  \n",
       "0             -0.0975             -0.0118              0.0794  \n",
       "1              0.3756              0.4922              0.4497  \n",
       "2              0.0616              0.2608              0.4896  \n",
       "3             -0.1080              0.1337             -0.0242  \n",
       "4             -0.0254             -0.0955              0.2760  "
      ]
     },
     "execution_count": 23,
     "metadata": {},
     "output_type": "execute_result"
    }
   ],
   "source": [
    "data2.head()"
   ]
  },
  {
   "cell_type": "code",
   "execution_count": 24,
   "metadata": {},
   "outputs": [],
   "source": [
    "# Convert string with exponent to float64 of data2\n",
    "for column in data1.columns:\n",
    "    if data1[column].dtype != 'float64':\n",
    "        data1[column] = data1[column].apply(lambda x: float(x.lower().replace(',', '.')))"
   ]
  },
  {
   "cell_type": "code",
   "execution_count": 25,
   "metadata": {},
   "outputs": [
    {
     "name": "stdout",
     "output_type": "stream",
     "text": [
      "<class 'pandas.core.frame.DataFrame'>\n",
      "RangeIndex: 506 entries, 0 to 505\n",
      "Data columns (total 12 columns):\n",
      " #   Column               Non-Null Count  Dtype  \n",
      "---  ------               --------------  -----  \n",
      " 0   Attitude Roll        506 non-null    float64\n",
      " 1   Attitude Pitch       506 non-null    float64\n",
      " 2   Attitude Azimuth     506 non-null    float64\n",
      " 3   Gravity X            506 non-null    float64\n",
      " 4   Gravity Y            506 non-null    float64\n",
      " 5   Gravity Z            506 non-null    float64\n",
      " 6   Rotation Rate X      506 non-null    float64\n",
      " 7   Rotation Rate Y      506 non-null    float64\n",
      " 8   Rotation Rate Z      506 non-null    float64\n",
      " 9   User Acceleration X  506 non-null    float64\n",
      " 10  User Acceleration Z  506 non-null    float64\n",
      " 11  User Acceleration Y  506 non-null    float64\n",
      "dtypes: float64(12)\n",
      "memory usage: 47.6 KB\n"
     ]
    }
   ],
   "source": [
    "data1.info()"
   ]
  },
  {
   "cell_type": "code",
   "execution_count": 26,
   "metadata": {},
   "outputs": [
    {
     "name": "stdout",
     "output_type": "stream",
     "text": [
      "<class 'pandas.core.frame.DataFrame'>\n",
      "RangeIndex: 1066 entries, 0 to 1065\n",
      "Data columns (total 12 columns):\n",
      " #   Column              Non-Null Count  Dtype  \n",
      "---  ------              --------------  -----  \n",
      " 0   attitude.roll       1066 non-null   float64\n",
      " 1   attitude.pitch      1066 non-null   float64\n",
      " 2   attitude.yaw        1066 non-null   float64\n",
      " 3   gravity.x           1066 non-null   float64\n",
      " 4   gravity.y           1066 non-null   float64\n",
      " 5   gravity.z           1066 non-null   float64\n",
      " 6   rotationRate.x      1066 non-null   float64\n",
      " 7   rotationRate.y      1066 non-null   float64\n",
      " 8   rotationRate.z      1066 non-null   float64\n",
      " 9   userAcceleration.x  1066 non-null   float64\n",
      " 10  userAcceleration.y  1066 non-null   float64\n",
      " 11  userAcceleration.z  1066 non-null   float64\n",
      "dtypes: float64(12)\n",
      "memory usage: 100.1 KB\n"
     ]
    }
   ],
   "source": [
    "data2.info()"
   ]
  },
  {
   "cell_type": "code",
   "execution_count": 27,
   "metadata": {},
   "outputs": [
    {
     "name": "stdout",
     "output_type": "stream",
     "text": [
      "Attitude Roll          0.2967\n",
      "Attitude Pitch         0.5706\n",
      "Attitude Azimuth       0.9357\n",
      "Gravity X              5.4900\n",
      "Gravity Y              0.0000\n",
      "Gravity Z              7.6309\n",
      "Rotation Rate X        2.3053\n",
      "Rotation Rate Y        1.3901\n",
      "Rotation Rate Z        0.6543\n",
      "User Acceleration X    7.1402\n",
      "User Acceleration Z    9.2865\n",
      "User Acceleration Y   -4.3609\n",
      "dtype: float64 \n",
      "\n",
      " Attitude Roll          -0.6699\n",
      "Attitude Pitch         -0.6917\n",
      "Attitude Azimuth       -0.9358\n",
      "Gravity X              -0.0024\n",
      "Gravity Y              -8.8835\n",
      "Gravity Z              -0.6648\n",
      "Rotation Rate X        -1.6988\n",
      "Rotation Rate Y        -1.7972\n",
      "Rotation Rate Z        -0.7475\n",
      "User Acceleration X    -0.9601\n",
      "User Acceleration Z    -0.5886\n",
      "User Acceleration Y   -11.7374\n",
      "dtype: float64\n",
      "attitude.roll         2.1304\n",
      "attitude.pitch       -0.4784\n",
      "attitude.yaw          3.1414\n",
      "gravity.x             0.6474\n",
      "gravity.y             0.9041\n",
      "gravity.z             0.3402\n",
      "rotationRate.x        5.5487\n",
      "rotationRate.y        7.2259\n",
      "rotationRate.z        3.0120\n",
      "userAcceleration.x    0.8176\n",
      "userAcceleration.y    2.0601\n",
      "userAcceleration.z    1.2292\n",
      "dtype: float64 \n",
      "\n",
      " Attitude Roll          -0.6699\n",
      "Attitude Pitch         -0.6917\n",
      "Attitude Azimuth       -0.9358\n",
      "Gravity X              -0.0024\n",
      "Gravity Y              -8.8835\n",
      "Gravity Z              -0.6648\n",
      "Rotation Rate X        -1.6988\n",
      "Rotation Rate Y        -1.7972\n",
      "Rotation Rate Z        -0.7475\n",
      "User Acceleration X    -0.9601\n",
      "User Acceleration Z    -0.5886\n",
      "User Acceleration Y   -11.7374\n",
      "dtype: float64\n"
     ]
    }
   ],
   "source": [
    "# Check max values of each column on both datasets\n",
    "data1_max = data1.max()\n",
    "data1_min = data1.min()\n",
    "data2_max = data2.max()\n",
    "data2_min = data2.min()\n",
    "\n",
    "print(data1_max, '\\n\\n', data1_min)\n",
    "print(data2_max, '\\n\\n', data1_min)"
   ]
  },
  {
   "cell_type": "code",
   "execution_count": 28,
   "metadata": {},
   "outputs": [
    {
     "name": "stdout",
     "output_type": "stream",
     "text": [
      "Attitude Roll         -0.2624\n",
      "Attitude Pitch         0.0160\n",
      "Attitude Azimuth      -0.1941\n",
      "Gravity X              3.6736\n",
      "Gravity Y             -7.8741\n",
      "Gravity Z              3.1085\n",
      "Rotation Rate X        0.0490\n",
      "Rotation Rate Y       -0.1132\n",
      "Rotation Rate Z        0.0319\n",
      "User Acceleration X    3.9839\n",
      "User Acceleration Z    2.9612\n",
      "User Acceleration Y   -8.2804\n",
      "dtype: float64\n",
      "attitude.roll         1.1454\n",
      "attitude.pitch       -0.8695\n",
      "attitude.yaw         -0.1352\n",
      "gravity.x             0.5018\n",
      "gravity.y             0.7563\n",
      "gravity.z            -0.2707\n",
      "rotationRate.x        0.2675\n",
      "rotationRate.y        0.3848\n",
      "rotationRate.z        0.0032\n",
      "userAcceleration.x    0.0073\n",
      "userAcceleration.y    0.0474\n",
      "userAcceleration.z    0.0206\n",
      "dtype: float64\n"
     ]
    }
   ],
   "source": [
    "# find mean of each column\n",
    "data1_mean = data1.mean()\n",
    "data2_mean = data2.mean()\n",
    "\n",
    "# print mean of each column\n",
    "print(data1_mean)\n",
    "print(data2_mean)"
   ]
  },
  {
   "cell_type": "code",
   "execution_count": 29,
   "metadata": {},
   "outputs": [
    {
     "data": {
      "image/png": "[encoded data removed]",
      "text/plain": [
       "<Figure size 640x480 with 1 Axes>"
      ]
     },
     "metadata": {},
     "output_type": "display_data"
    },
    {
     "data": {
      "image/png": "[encoded data removed]",
      "text/plain": [
       "<Figure size 640x480 with 1 Axes>"
      ]
     },
     "metadata": {},
     "output_type": "display_data"
    }
   ],
   "source": [
    "# clone the data1 and data2\n",
    "data1_clone = data1.copy()\n",
    "data2_clone = data2.copy()\n",
    "\n",
    "# drop user acceleration z\n",
    "# data1_clone = data1_clone.drop(columns=['User Acceleration X','User Acceleration Z', 'Gravity Z', 'Gravity X', 'Rotation Rate Z', 'Rotation Rate Y', 'Rotation Rate X'])\n",
    "\n",
    "# boxplot\n",
    "data1_clone.boxplot()\n",
    "plt.show()\n",
    "\n",
    "data2_clone.boxplot()\n",
    "plt.show()"
   ]
  },
  {
   "cell_type": "code",
   "execution_count": 30,
   "metadata": {},
   "outputs": [],
   "source": [
    "# multiply data1 with constant to fit data2\n",
    "def fit_data(data1_means, data2_means):\n",
    "    constants = []\n",
    "    for i in range(len(data1_means)):\n",
    "        constants.append(data2_means[i] / data1_means[i])\n",
    "    return constants"
   ]
  },
  {
   "cell_type": "code",
   "execution_count": 31,
   "metadata": {},
   "outputs": [
    {
     "name": "stdout",
     "output_type": "stream",
     "text": [
      "[-4.365773443394101, -54.41323957653783, 0.6968203587335142, 0.136588954952241, -0.09604518816954369, -0.08707225978969914, 5.4562065151808135, -3.400095555606604, 0.09906699814009713, 0.001828595069585254, 0.016005308523111047, -0.0024931627536205155]\n"
     ]
    },
    {
     "name": "stderr",
     "output_type": "stream",
     "text": [
      "C:\\Users\\rayha\\AppData\\Local\\Temp\\ipykernel_24452\\4027147284.py:5: FutureWarning: Series.__getitem__ treating keys as positions is deprecated. In a future version, integer keys will always be treated as labels (consistent with DataFrame behavior). To access a value by position, use `ser.iloc[pos]`\n",
      "  constants.append(data2_means[i] / data1_means[i])\n"
     ]
    }
   ],
   "source": [
    "constants = fit_data(data1_mean, data2_mean)\n",
    "print(constants)"
   ]
  },
  {
   "cell_type": "code",
   "execution_count": 32,
   "metadata": {},
   "outputs": [],
   "source": [
    "# c sit\n",
    "csit = [-3.4514602950238413, 1.5113482974975188, 0.04506911694138332, 0.08481774081897564, -0.09929570045713661, -0.1052114951314593, -0.06962702815752816, 0.9220802908586258, 6.064459319103737, 0.0008315096586496537, 0.0004046852066223911, 0.0021323793348923844]\n",
    "\n",
    "\n",
    "# multiply data1 with constants\n",
    "data1_fit = data1 * constants\n",
    "\n",
    "# find mean of each column\n",
    "data1_fit_mean = data1_fit.mean()"
   ]
  },
  {
   "cell_type": "code",
   "execution_count": 33,
   "metadata": {},
   "outputs": [
    {
     "name": "stdout",
     "output_type": "stream",
     "text": [
      "Attitude Roll          1.1454\n",
      "Attitude Pitch        -0.8695\n",
      "Attitude Azimuth      -0.1352\n",
      "Gravity X              0.5018\n",
      "Gravity Y              0.7563\n",
      "Gravity Z             -0.2707\n",
      "Rotation Rate X        0.2675\n",
      "Rotation Rate Y        0.3848\n",
      "Rotation Rate Z        0.0032\n",
      "User Acceleration X    0.0073\n",
      "User Acceleration Z    0.0474\n",
      "User Acceleration Y    0.0206\n",
      "dtype: float64\n",
      "attitude.roll         1.1454\n",
      "attitude.pitch       -0.8695\n",
      "attitude.yaw         -0.1352\n",
      "gravity.x             0.5018\n",
      "gravity.y             0.7563\n",
      "gravity.z            -0.2707\n",
      "rotationRate.x        0.2675\n",
      "rotationRate.y        0.3848\n",
      "rotationRate.z        0.0032\n",
      "userAcceleration.x    0.0073\n",
      "userAcceleration.y    0.0474\n",
      "userAcceleration.z    0.0206\n",
      "dtype: float64\n"
     ]
    }
   ],
   "source": [
    "# compare mean of data1_fit and data2\n",
    "print(data1_fit_mean)\n",
    "print(data2_mean)"
   ]
  },
  {
   "cell_type": "code",
   "execution_count": 34,
   "metadata": {},
   "outputs": [
    {
     "data": {
      "text/html": [
       "<div>\n",
       "<style scoped>\n",
       "    .dataframe tbody tr th:only-of-type {\n",
       "        vertical-align: middle;\n",
       "    }\n",
       "\n",
       "    .dataframe tbody tr th {\n",
       "        vertical-align: top;\n",
       "    }\n",
       "\n",
       "    .dataframe thead th {\n",
       "        text-align: right;\n",
       "    }\n",
       "</style>\n",
       "<table border=\"1\" class=\"dataframe\">\n",
       "  <thead>\n",
       "    <tr style=\"text-align: right;\">\n",
       "      <th></th>\n",
       "      <th>Attitude Roll</th>\n",
       "      <th>Attitude Pitch</th>\n",
       "      <th>Attitude Azimuth</th>\n",
       "      <th>Gravity X</th>\n",
       "      <th>Gravity Y</th>\n",
       "      <th>Gravity Z</th>\n",
       "      <th>Rotation Rate X</th>\n",
       "      <th>Rotation Rate Y</th>\n",
       "      <th>Rotation Rate Z</th>\n",
       "      <th>User Acceleration X</th>\n",
       "      <th>User Acceleration Z</th>\n",
       "      <th>User Acceleration Y</th>\n",
       "    </tr>\n",
       "  </thead>\n",
       "  <tbody>\n",
       "    <tr>\n",
       "      <th>0</th>\n",
       "      <td>-0.0000</td>\n",
       "      <td>-0.0000</td>\n",
       "      <td>0.0000</td>\n",
       "      <td>0.0000</td>\n",
       "      <td>-0.0000</td>\n",
       "      <td>-0.0000</td>\n",
       "      <td>0.0465</td>\n",
       "      <td>0.0222</td>\n",
       "      <td>-0.0001</td>\n",
       "      <td>0.0092</td>\n",
       "      <td>0.0081</td>\n",
       "      <td>0.0218</td>\n",
       "    </tr>\n",
       "    <tr>\n",
       "      <th>1</th>\n",
       "      <td>-0.0000</td>\n",
       "      <td>-0.0000</td>\n",
       "      <td>0.0000</td>\n",
       "      <td>0.0000</td>\n",
       "      <td>-0.0000</td>\n",
       "      <td>-0.0000</td>\n",
       "      <td>0.0465</td>\n",
       "      <td>0.0222</td>\n",
       "      <td>-0.0001</td>\n",
       "      <td>0.0092</td>\n",
       "      <td>0.0081</td>\n",
       "      <td>0.0218</td>\n",
       "    </tr>\n",
       "    <tr>\n",
       "      <th>2</th>\n",
       "      <td>-0.0000</td>\n",
       "      <td>-0.0000</td>\n",
       "      <td>0.0000</td>\n",
       "      <td>0.6625</td>\n",
       "      <td>0.8172</td>\n",
       "      <td>-0.0434</td>\n",
       "      <td>0.0465</td>\n",
       "      <td>0.0222</td>\n",
       "      <td>-0.0001</td>\n",
       "      <td>0.0092</td>\n",
       "      <td>0.0081</td>\n",
       "      <td>0.0218</td>\n",
       "    </tr>\n",
       "    <tr>\n",
       "      <th>3</th>\n",
       "      <td>-0.0000</td>\n",
       "      <td>-0.0000</td>\n",
       "      <td>0.0000</td>\n",
       "      <td>0.6625</td>\n",
       "      <td>0.8172</td>\n",
       "      <td>-0.0434</td>\n",
       "      <td>0.0378</td>\n",
       "      <td>0.0041</td>\n",
       "      <td>0.0001</td>\n",
       "      <td>0.0092</td>\n",
       "      <td>0.0078</td>\n",
       "      <td>0.0218</td>\n",
       "    </tr>\n",
       "    <tr>\n",
       "      <th>4</th>\n",
       "      <td>-0.0000</td>\n",
       "      <td>-0.0000</td>\n",
       "      <td>0.0000</td>\n",
       "      <td>0.6625</td>\n",
       "      <td>0.8172</td>\n",
       "      <td>-0.0434</td>\n",
       "      <td>0.0378</td>\n",
       "      <td>0.0041</td>\n",
       "      <td>0.0001</td>\n",
       "      <td>0.0092</td>\n",
       "      <td>0.0078</td>\n",
       "      <td>0.0218</td>\n",
       "    </tr>\n",
       "  </tbody>\n",
       "</table>\n",
       "</div>"
      ],
      "text/plain": [
       "   Attitude Roll  Attitude Pitch  Attitude Azimuth  Gravity X  Gravity Y  \\\n",
       "0        -0.0000         -0.0000            0.0000     0.0000    -0.0000   \n",
       "1        -0.0000         -0.0000            0.0000     0.0000    -0.0000   \n",
       "2        -0.0000         -0.0000            0.0000     0.6625     0.8172   \n",
       "3        -0.0000         -0.0000            0.0000     0.6625     0.8172   \n",
       "4        -0.0000         -0.0000            0.0000     0.6625     0.8172   \n",
       "\n",
       "   Gravity Z  Rotation Rate X  Rotation Rate Y  Rotation Rate Z  \\\n",
       "0    -0.0000           0.0465           0.0222          -0.0001   \n",
       "1    -0.0000           0.0465           0.0222          -0.0001   \n",
       "2    -0.0434           0.0465           0.0222          -0.0001   \n",
       "3    -0.0434           0.0378           0.0041           0.0001   \n",
       "4    -0.0434           0.0378           0.0041           0.0001   \n",
       "\n",
       "   User Acceleration X  User Acceleration Z  User Acceleration Y  \n",
       "0               0.0092               0.0081               0.0218  \n",
       "1               0.0092               0.0081               0.0218  \n",
       "2               0.0092               0.0081               0.0218  \n",
       "3               0.0092               0.0078               0.0218  \n",
       "4               0.0092               0.0078               0.0218  "
      ]
     },
     "execution_count": 34,
     "metadata": {},
     "output_type": "execute_result"
    }
   ],
   "source": [
    "# Check head\n",
    "data1_fit.head()"
   ]
  },
  {
   "cell_type": "code",
   "execution_count": 35,
   "metadata": {},
   "outputs": [
    {
     "data": {
      "text/html": [
       "<div>\n",
       "<style scoped>\n",
       "    .dataframe tbody tr th:only-of-type {\n",
       "        vertical-align: middle;\n",
       "    }\n",
       "\n",
       "    .dataframe tbody tr th {\n",
       "        vertical-align: top;\n",
       "    }\n",
       "\n",
       "    .dataframe thead th {\n",
       "        text-align: right;\n",
       "    }\n",
       "</style>\n",
       "<table border=\"1\" class=\"dataframe\">\n",
       "  <thead>\n",
       "    <tr style=\"text-align: right;\">\n",
       "      <th></th>\n",
       "      <th>attitude.roll</th>\n",
       "      <th>attitude.pitch</th>\n",
       "      <th>attitude.yaw</th>\n",
       "      <th>gravity.x</th>\n",
       "      <th>gravity.y</th>\n",
       "      <th>gravity.z</th>\n",
       "      <th>rotationRate.x</th>\n",
       "      <th>rotationRate.y</th>\n",
       "      <th>rotationRate.z</th>\n",
       "      <th>userAcceleration.x</th>\n",
       "      <th>userAcceleration.y</th>\n",
       "      <th>userAcceleration.z</th>\n",
       "    </tr>\n",
       "  </thead>\n",
       "  <tbody>\n",
       "    <tr>\n",
       "      <th>0</th>\n",
       "      <td>0.8385</td>\n",
       "      <td>-0.9016</td>\n",
       "      <td>0.1897</td>\n",
       "      <td>0.4613</td>\n",
       "      <td>0.7843</td>\n",
       "      <td>-0.4147</td>\n",
       "      <td>0.1272</td>\n",
       "      <td>2.8332</td>\n",
       "      <td>-0.2272</td>\n",
       "      <td>-0.0975</td>\n",
       "      <td>-0.0118</td>\n",
       "      <td>0.0794</td>\n",
       "    </tr>\n",
       "    <tr>\n",
       "      <th>1</th>\n",
       "      <td>0.9012</td>\n",
       "      <td>-0.9003</td>\n",
       "      <td>0.1778</td>\n",
       "      <td>0.4872</td>\n",
       "      <td>0.7835</td>\n",
       "      <td>-0.3856</td>\n",
       "      <td>0.0768</td>\n",
       "      <td>4.1651</td>\n",
       "      <td>-0.2816</td>\n",
       "      <td>0.3756</td>\n",
       "      <td>0.4922</td>\n",
       "      <td>0.4497</td>\n",
       "    </tr>\n",
       "    <tr>\n",
       "      <th>2</th>\n",
       "      <td>0.9931</td>\n",
       "      <td>-0.9150</td>\n",
       "      <td>0.1857</td>\n",
       "      <td>0.5109</td>\n",
       "      <td>0.7925</td>\n",
       "      <td>-0.3330</td>\n",
       "      <td>-0.7941</td>\n",
       "      <td>3.8792</td>\n",
       "      <td>-0.4881</td>\n",
       "      <td>0.0616</td>\n",
       "      <td>0.2608</td>\n",
       "      <td>0.4896</td>\n",
       "    </tr>\n",
       "    <tr>\n",
       "      <th>3</th>\n",
       "      <td>1.0295</td>\n",
       "      <td>-0.9219</td>\n",
       "      <td>0.1711</td>\n",
       "      <td>0.5179</td>\n",
       "      <td>0.7968</td>\n",
       "      <td>-0.3113</td>\n",
       "      <td>0.7019</td>\n",
       "      <td>1.7288</td>\n",
       "      <td>-0.5390</td>\n",
       "      <td>-0.1080</td>\n",
       "      <td>0.1337</td>\n",
       "      <td>-0.0242</td>\n",
       "    </tr>\n",
       "    <tr>\n",
       "      <th>4</th>\n",
       "      <td>1.0520</td>\n",
       "      <td>-0.9279</td>\n",
       "      <td>0.1562</td>\n",
       "      <td>0.5207</td>\n",
       "      <td>0.8003</td>\n",
       "      <td>-0.2973</td>\n",
       "      <td>-0.2339</td>\n",
       "      <td>2.0310</td>\n",
       "      <td>-0.4498</td>\n",
       "      <td>-0.0254</td>\n",
       "      <td>-0.0955</td>\n",
       "      <td>0.2760</td>\n",
       "    </tr>\n",
       "  </tbody>\n",
       "</table>\n",
       "</div>"
      ],
      "text/plain": [
       "   attitude.roll  attitude.pitch  attitude.yaw  gravity.x  gravity.y  \\\n",
       "0         0.8385         -0.9016        0.1897     0.4613     0.7843   \n",
       "1         0.9012         -0.9003        0.1778     0.4872     0.7835   \n",
       "2         0.9931         -0.9150        0.1857     0.5109     0.7925   \n",
       "3         1.0295         -0.9219        0.1711     0.5179     0.7968   \n",
       "4         1.0520         -0.9279        0.1562     0.5207     0.8003   \n",
       "\n",
       "   gravity.z  rotationRate.x  rotationRate.y  rotationRate.z  \\\n",
       "0    -0.4147          0.1272          2.8332         -0.2272   \n",
       "1    -0.3856          0.0768          4.1651         -0.2816   \n",
       "2    -0.3330         -0.7941          3.8792         -0.4881   \n",
       "3    -0.3113          0.7019          1.7288         -0.5390   \n",
       "4    -0.2973         -0.2339          2.0310         -0.4498   \n",
       "\n",
       "   userAcceleration.x  userAcceleration.y  userAcceleration.z  \n",
       "0             -0.0975             -0.0118              0.0794  \n",
       "1              0.3756              0.4922              0.4497  \n",
       "2              0.0616              0.2608              0.4896  \n",
       "3             -0.1080              0.1337             -0.0242  \n",
       "4             -0.0254             -0.0955              0.2760  "
      ]
     },
     "execution_count": 35,
     "metadata": {},
     "output_type": "execute_result"
    }
   ],
   "source": [
    "# Check head\n",
    "data2.head()"
   ]
  },
  {
   "cell_type": "code",
   "execution_count": 19,
   "metadata": {},
   "outputs": [
    {
     "name": "stdout",
     "output_type": "stream",
     "text": [
      "Attitude Roll         3.3360\n",
      "Attitude Pitch        1.9078\n",
      "Attitude Azimuth      0.0843\n",
      "Gravity X             0.4659\n",
      "Gravity Y             0.8821\n",
      "Gravity Z             0.8728\n",
      "Rotation Rate X       0.2788\n",
      "Rotation Rate Y       2.9390\n",
      "Rotation Rate Z       8.5014\n",
      "User Acceleration X   0.0067\n",
      "User Acceleration Z   0.0040\n",
      "User Acceleration Y   0.0157\n",
      "dtype: float64\n"
     ]
    }
   ],
   "source": [
    "# Set pandas float format\n",
    "pd.options.display.float_format = '{:.4f}'.format\n",
    "\n",
    "# check range of each column of data 1\n",
    "data1_range = data1_fit.max() - data1_fit.min()\n",
    "\n",
    "# print full range of each column without exponential\n",
    "print(data1_range)"
   ]
  },
  {
   "cell_type": "code",
   "execution_count": 19,
   "metadata": {},
   "outputs": [
    {
     "data": {
      "text/plain": [
       "attitude.roll        0.2080\n",
       "attitude.pitch       0.2775\n",
       "attitude.yaw         0.2801\n",
       "gravity.x            0.1909\n",
       "gravity.y            0.2608\n",
       "gravity.z            0.1075\n",
       "rotationRate.x       1.3274\n",
       "rotationRate.y       0.7379\n",
       "rotationRate.z       1.3023\n",
       "userAcceleration.x   0.4380\n",
       "userAcceleration.y   0.2358\n",
       "userAcceleration.z   0.2719\n",
       "dtype: float64"
      ]
     },
     "execution_count": 19,
     "metadata": {},
     "output_type": "execute_result"
    }
   ],
   "source": [
    "data2_range = data2.max() - data2.min()\n",
    "data2_range"
   ]
  },
  {
   "cell_type": "code",
   "execution_count": 20,
   "metadata": {},
   "outputs": [
    {
     "data": {
      "image/png": "[encoded data removed]",
      "text/plain": [
       "<Figure size 640x480 with 1 Axes>"
      ]
     },
     "metadata": {},
     "output_type": "display_data"
    },
    {
     "data": {
      "image/png": "[encoded data removed]",
      "text/plain": [
       "<Figure size 640x480 with 1 Axes>"
      ]
     },
     "metadata": {},
     "output_type": "display_data"
    }
   ],
   "source": [
    "# box plot data1_fit and data2\n",
    "# data1_fit = data1_fit.drop(columns=['User Acceleration Z'])\n",
    "data1_fit.boxplot()\n",
    "plt.show()\n",
    "\n",
    "data2.boxplot()\n",
    "plt.show()"
   ]
  },
  {
   "cell_type": "code",
   "execution_count": 21,
   "metadata": {},
   "outputs": [],
   "source": [
    "# dropping outliers of data1_fit\n",
    "# drop max and minimum values of gravity x of data1_fit \n",
    "data1_fit = data1_fit.drop(data1_fit[data1_fit['Gravity X'] == data1_fit['Gravity X'].max()].index)\n",
    "data1_fit = data1_fit.drop(data1_fit[data1_fit['Gravity X'] == data1_fit['Gravity X'].min()].index)"
   ]
  },
  {
   "cell_type": "code",
   "execution_count": 118,
   "metadata": {},
   "outputs": [],
   "source": [
    "data1_fit = data1_fit.drop(data1_fit[data1_fit['User Acceleration X'] == data1_fit['User Acceleration X'].max()].index)\n",
    "data1_fit = data1_fit.drop(data1_fit[data1_fit['User Acceleration X'] == data1_fit['User Acceleration X'].min()].index)"
   ]
  },
  {
   "cell_type": "code",
   "execution_count": 121,
   "metadata": {},
   "outputs": [],
   "source": [
    "# drop gravity z above -0.75\n",
    "data1_fit = data1_fit.drop(data1_fit[data1_fit['Gravity Z'] > -0.75].index)\n"
   ]
  },
  {
   "cell_type": "code",
   "execution_count": 24,
   "metadata": {},
   "outputs": [
    {
     "data": {
      "image/png": "[encoded data removed]",
      "text/plain": [
       "<Figure size 640x480 with 1 Axes>"
      ]
     },
     "metadata": {},
     "output_type": "display_data"
    }
   ],
   "source": [
    "# box plot again\n",
    "data1_fit.boxplot()\n",
    "plt.show()"
   ]
  },
  {
   "cell_type": "code",
   "execution_count": 36,
   "metadata": {},
   "outputs": [],
   "source": [
    "# export data1_fit to csv\n",
    "data1_fit.to_csv('android_data/testing.csv', sep=',', index=False)"
   ]
  }
 ],
 "metadata": {
  "kernelspec": {
   "display_name": "tf-gpu",
   "language": "python",
   "name": "python3"
  },
  "language_info": {
   "codemirror_mode": {
    "name": "ipython",
    "version": 3
   },
   "file_extension": ".py",
   "mimetype": "text/x-python",
   "name": "python",
   "nbconvert_exporter": "python",
   "pygments_lexer": "ipython3",
   "version": "3.10.14"
  }
 },
 "nbformat": 4,
 "nbformat_minor": 2
}
