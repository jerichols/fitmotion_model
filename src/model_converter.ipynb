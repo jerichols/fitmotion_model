{
 "cells": [
  {
   "cell_type": "code",
   "execution_count": 1,
   "metadata": {},
   "outputs": [],
   "source": [
    "import tensorflow as tf"
   ]
  },
  {
   "cell_type": "code",
   "execution_count": 2,
   "metadata": {},
   "outputs": [
    {
     "name": "stderr",
     "output_type": "stream",
     "text": [
      "c:\\Users\\jeric\\AppData\\Local\\Programs\\Python\\Python39\\lib\\site-packages\\keras\\src\\saving\\saving_lib.py:415: UserWarning: Skipping variable loading for optimizer 'rmsprop', because it has 9 variables whereas the saved optimizer has 16 variables. \n",
      "  saveable.load_own_variables(weights_store.get(inner_path))\n"
     ]
    },
    {
     "name": "stdout",
     "output_type": "stream",
     "text": [
      "INFO:tensorflow:Assets written to: saved_model\\assets\n"
     ]
    },
    {
     "name": "stderr",
     "output_type": "stream",
     "text": [
      "INFO:tensorflow:Assets written to: saved_model\\assets\n"
     ]
    }
   ],
   "source": [
    "keras_model = tf.keras.models.load_model('fitmotion_model.keras')\n",
    "tf.saved_model.save(keras_model, \"saved_model\")"
   ]
  },
  {
   "cell_type": "code",
   "execution_count": 3,
   "metadata": {},
   "outputs": [
    {
     "name": "stderr",
     "output_type": "stream",
     "text": [
      "2024-06-13 22:17:48.482358: I tensorflow/core/util/port.cc:113] oneDNN custom operations are on. You may see slightly different numerical results due to floating-point round-off errors from different computation orders. To turn them off, set the environment variable `TF_ENABLE_ONEDNN_OPTS=0`.\n",
      "2024-06-13 22:17:49.570205: I tensorflow/core/util/port.cc:113] oneDNN custom operations are on. You may see slightly different numerical results due to floating-point round-off errors from different computation orders. To turn them off, set the environment variable `TF_ENABLE_ONEDNN_OPTS=0`.\n",
      "WARNING:tensorflow:From c:\\Users\\jeric\\AppData\\Local\\Programs\\Python\\Python39\\lib\\site-packages\\tf2onnx\\tf_loader.py:68: The name tf.reset_default_graph is deprecated. Please use tf.compat.v1.reset_default_graph instead.\n",
      "\n",
      "WARNING:tensorflow:From c:\\Users\\jeric\\AppData\\Local\\Programs\\Python\\Python39\\lib\\site-packages\\tf2onnx\\tf_loader.py:72: The name tf.train.import_meta_graph is deprecated. Please use tf.compat.v1.train.import_meta_graph instead.\n",
      "\n",
      "c:\\Users\\jeric\\AppData\\Local\\Programs\\Python\\Python39\\lib\\runpy.py:127: RuntimeWarning: 'tf2onnx.convert' found in sys.modules after import of package 'tf2onnx', but prior to execution of 'tf2onnx.convert'; this may result in unpredictable behaviour\n",
      "  warn(RuntimeWarning(msg))\n",
      "2024-06-13 22:17:52.676014: I tensorflow/core/platform/cpu_feature_guard.cc:210] This TensorFlow binary is optimized to use available CPU instructions in performance-critical operations.\n",
      "To enable the following instructions: AVX2 AVX512F AVX512_VNNI FMA, in other operations, rebuild TensorFlow with the appropriate compiler flags.\n",
      "2024-06-13 22:17:52,676 - WARNING - '--tag' not specified for saved_model. Using --tag serve\n",
      "2024-06-13 22:17:52,847 - INFO - Signatures found in model: [serving_default].\n",
      "2024-06-13 22:17:52,847 - WARNING - '--signature_def' not specified, using first signature: serving_default\n",
      "2024-06-13 22:17:52,847 - INFO - Output names: ['output_0']\n",
      "2024-06-13 22:17:52.852350: I tensorflow/core/grappler/devices.cc:75] Number of eligible GPUs (core count >= 8, compute capability >= 0.0): 0 (Note: TensorFlow was not compiled with CUDA or ROCm support)\n",
      "2024-06-13 22:17:52.853249: I tensorflow/core/grappler/clusters/single_machine.cc:361] Starting new session\n",
      "2024-06-13 22:17:53.011352: I tensorflow/core/grappler/devices.cc:75] Number of eligible GPUs (core count >= 8, compute capability >= 0.0): 0 (Note: TensorFlow was not compiled with CUDA or ROCm support)\n",
      "2024-06-13 22:17:53.011671: I tensorflow/core/grappler/clusters/single_machine.cc:361] Starting new session\n",
      "2024-06-13 22:17:53,057 - INFO - Using tensorflow=2.16.1, onnx=1.16.1, tf2onnx=1.16.1/15c810\n",
      "2024-06-13 22:17:53,057 - INFO - Using opset <onnx, 15>\n",
      "2024-06-13 22:17:53,081 - INFO - Computed 0 values for constant folding\n",
      "2024-06-13 22:17:53,084 - INFO - Computed 0 values for constant folding\n",
      "2024-06-13 22:17:53.095506: I tensorflow/compiler/mlir/mlir_graph_optimization_pass.cc:388] MLIR V1 optimization pass is not enabled\n",
      "2024-06-13 22:17:53,103 - INFO - Computed 0 values for constant folding\n",
      "2024-06-13 22:17:53,151 - INFO - Optimizing ONNX model\n",
      "2024-06-13 22:17:53,378 - INFO - After optimization: Cast -8 (12->4), Concat -1 (2->1), Const -17 (35->18), Expand -1 (2->1), Identity -27 (28->1), Less -1 (4->3), Placeholder -1 (10->9), Squeeze -1 (1->0), Unsqueeze -4 (4->0)\n",
      "2024-06-13 22:17:53,383 - INFO - \n",
      "2024-06-13 22:17:53,383 - INFO - Successfully converted TensorFlow model saved_model to ONNX\n",
      "2024-06-13 22:17:53,383 - INFO - Model inputs: ['inputs']\n",
      "2024-06-13 22:17:53,383 - INFO - Model outputs: ['output_0']\n",
      "2024-06-13 22:17:53,383 - INFO - ONNX model is saved at fitmotion_model.onnx\n"
     ]
    }
   ],
   "source": [
    "!python -m tf2onnx.convert --saved-model saved_model --output fitmotion_model.onnx"
   ]
  }
 ],
 "metadata": {
  "kernelspec": {
   "display_name": "Python 3",
   "language": "python",
   "name": "python3"
  },
  "language_info": {
   "codemirror_mode": {
    "name": "ipython",
    "version": 3
   },
   "file_extension": ".py",
   "mimetype": "text/x-python",
   "name": "python",
   "nbconvert_exporter": "python",
   "pygments_lexer": "ipython3",
   "version": "3.9.7"
  }
 },
 "nbformat": 4,
 "nbformat_minor": 2
}
