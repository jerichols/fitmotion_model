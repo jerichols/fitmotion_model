{
 "cells": [
  {
   "cell_type": "code",
   "execution_count": 2,
   "metadata": {},
   "outputs": [],
   "source": [
    "import os\n",
    "import pandas as pd"
   ]
  },
  {
   "cell_type": "code",
   "execution_count": 8,
   "metadata": {},
   "outputs": [
    {
     "data": {
      "text/plain": [
       "['ups_3',\n",
       " 'dws_11',\n",
       " 'std_6',\n",
       " 'wlk_8',\n",
       " 'sit_13',\n",
       " 'std_14',\n",
       " 'ups_4',\n",
       " 'jog_9',\n",
       " 'wlk_7',\n",
       " 'jog_16',\n",
       " 'wlk_15',\n",
       " 'dws_2',\n",
       " 'sit_5',\n",
       " 'dws_1',\n",
       " 'ups_12']"
      ]
     },
     "execution_count": 8,
     "metadata": {},
     "output_type": "execute_result"
    }
   ],
   "source": [
    "dataset_path = '../data/dataset/'\n",
    "paths = os.listdir(dataset_path)\n",
    "paths.pop(paths.index(\"data_subjects_info.csv\"))\n",
    "paths"
   ]
  },
  {
   "cell_type": "code",
   "execution_count": 19,
   "metadata": {},
   "outputs": [],
   "source": [
    "# create new folder with data path\n",
    "dataset_reduced = '../data/dataset_reduced/'\n",
    "for subset in paths:\n",
    "    os.mkdir(dataset_reduced + subset)"
   ]
  },
  {
   "cell_type": "code",
   "execution_count": 22,
   "metadata": {},
   "outputs": [],
   "source": [
    "for subset in paths:\n",
    "    data_paths = os.listdir(dataset_path + subset)\n",
    "    for index, data in enumerate(data_paths):\n",
    "        data_url = dataset_path + subset + '/' + data\n",
    "        df = pd.read_csv(data_url)\n",
    "        df.pop('Unnamed: 0')\n",
    "        df.pop('attitude.roll')\n",
    "        df.pop('attitude.pitch')\n",
    "        df.pop('attitude.yaw')\n",
    "        df.pop('rotationRate.x')\n",
    "        df.pop('rotationRate.y')\n",
    "        df.pop('rotationRate.z')\n",
    "\n",
    "        df.to_csv(dataset_reduced + subset + '/' + data)"
   ]
  }
 ],
 "metadata": {
  "kernelspec": {
   "display_name": "tf-testing",
   "language": "python",
   "name": "python3"
  },
  "language_info": {
   "codemirror_mode": {
    "name": "ipython",
    "version": 3
   },
   "file_extension": ".py",
   "mimetype": "text/x-python",
   "name": "python",
   "nbconvert_exporter": "python",
   "pygments_lexer": "ipython3",
   "version": "3.12.3"
  }
 },
 "nbformat": 4,
 "nbformat_minor": 2
}
