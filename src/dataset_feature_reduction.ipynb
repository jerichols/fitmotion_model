{
 "cells": [
  {
   "cell_type": "code",
   "execution_count": 3,
   "metadata": {},
   "outputs": [],
   "source": [
    "import os\n",
    "import pandas as pd"
   ]
  },
  {
   "cell_type": "code",
   "execution_count": 5,
   "metadata": {},
   "outputs": [
    {
     "data": {
      "text/plain": [
       "['wlk', 'dws', 'ups']"
      ]
     },
     "execution_count": 5,
     "metadata": {},
     "output_type": "execute_result"
    }
   ],
   "source": [
    "dataset_name = 'android_data_latest'\n",
    "dataset_path = '../data/' + dataset_name + '/'\n",
    "paths = os.listdir(dataset_path)\n",
    "paths.pop(paths.index(\"data_subjects_info.csv\")) if \"data_subjects_info.csv\" in paths else None\n",
    "paths"
   ]
  },
  {
   "cell_type": "code",
   "execution_count": 6,
   "metadata": {},
   "outputs": [],
   "source": [
    "# create new folder with data path\n",
    "dataset_reduced = '../data/' + dataset_name + '_reduced/'\n",
    "for subset in paths:\n",
    "    os.mkdir(dataset_reduced + subset)"
   ]
  },
  {
   "cell_type": "code",
   "execution_count": 8,
   "metadata": {},
   "outputs": [],
   "source": [
    "for subset in paths:\n",
    "    data_paths = os.listdir(dataset_path + subset)\n",
    "    for index, data in enumerate(data_paths):\n",
    "        data_url = dataset_path + subset + '/' + data\n",
    "\n",
    "        if dataset_name == 'dataset':\n",
    "            df = pd.read_csv(data_url)\n",
    "            df.pop('Unnamed: 0')\n",
    "            df.pop('attitude.roll')\n",
    "            df.pop('attitude.pitch')\n",
    "            df.pop('attitude.yaw')\n",
    "            df.pop('rotationRate.x')\n",
    "            df.pop('rotationRate.y')\n",
    "            df.pop('rotationRate.z')\n",
    "        \n",
    "        if dataset_name == 'android_data' or dataset_name == 'android_data_latest':\n",
    "            df = pd.read_csv(data_url, sep=';')\n",
    "            df.pop('id')\n",
    "            df.pop('Attitude Roll')\n",
    "            df.pop('Attitude Pitch')\n",
    "            df.pop('Attitude Azimuth')\n",
    "            df.pop('Rotation Rate X')\n",
    "            df.pop('Rotation Rate Y')\n",
    "            df.pop('Rotation Rate Z')\n",
    "        \n",
    "        df.to_csv(dataset_reduced + subset + '/' + data)"
   ]
  }
 ],
 "metadata": {
  "kernelspec": {
   "display_name": "tf-testing",
   "language": "python",
   "name": "python3"
  },
  "language_info": {
   "codemirror_mode": {
    "name": "ipython",
    "version": 3
   },
   "file_extension": ".py",
   "mimetype": "text/x-python",
   "name": "python",
   "nbconvert_exporter": "python",
   "pygments_lexer": "ipython3",
   "version": "3.1.-1"
  }
 },
 "nbformat": 4,
 "nbformat_minor": 2
}
