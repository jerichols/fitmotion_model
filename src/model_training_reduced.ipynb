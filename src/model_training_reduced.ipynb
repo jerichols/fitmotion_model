{
  "cells": [
    {
      "cell_type": "markdown",
      "metadata": {
        "colab_type": "text",
        "id": "view-in-github"
      },
      "source": [
        "<a href=\"https://colab.research.google.com/github/rayhannarindran/fitmotion_model/blob/main/trainingScript.ipynb\" target=\"_parent\"><img src=\"https://colab.research.google.com/assets/colab-badge.svg\" alt=\"Open In Colab\"/></a>"
      ]
    },
    {
      "cell_type": "code",
      "execution_count": 40,
      "metadata": {
        "id": "VJH81fpjdKX6"
      },
      "outputs": [],
      "source": [
        "import os\n",
        "import tensorflow as tf\n",
        "import numpy as np\n",
        "import pandas as pd\n",
        "from tensorflow import keras"
      ]
    },
    {
      "cell_type": "markdown",
      "metadata": {
        "id": "f8BXdcQqbSCU"
      },
      "source": [
        "# **Dataset Initiation**"
      ]
    },
    {
      "cell_type": "markdown",
      "metadata": {},
      "source": [
        "First we load the dataset into a dataframe so it is easier to work with, by getting all the paths to files and concatenating all the data into one dataframe, this dataframe includes all the information about the gyro and also the motion done, with the labels."
      ]
    },
    {
      "cell_type": "code",
      "execution_count": 41,
      "metadata": {},
      "outputs": [
        {
          "name": "stdout",
          "output_type": "stream",
          "text": [
            "../data/dataset_reduced/ups_3/sub_1.csv\n",
            "../data/dataset_reduced/ups_3/sub_24.csv\n",
            "../data/dataset_reduced/ups_3/sub_22.csv\n",
            "../data/dataset_reduced/ups_3/sub_9.csv\n",
            "../data/dataset_reduced/ups_3/sub_2.csv\n",
            "../data/dataset_reduced/ups_3/sub_23.csv\n",
            "../data/dataset_reduced/ups_3/sub_20.csv\n",
            "../data/dataset_reduced/ups_3/sub_11.csv\n",
            "../data/dataset_reduced/ups_3/sub_13.csv\n",
            "../data/dataset_reduced/ups_3/sub_10.csv\n",
            "../data/dataset_reduced/ups_3/sub_6.csv\n",
            "../data/dataset_reduced/ups_3/sub_3.csv\n",
            "../data/dataset_reduced/ups_3/sub_14.csv\n",
            "../data/dataset_reduced/ups_3/sub_16.csv\n",
            "../data/dataset_reduced/ups_3/sub_4.csv\n",
            "../data/dataset_reduced/ups_3/sub_8.csv\n",
            "../data/dataset_reduced/ups_3/sub_5.csv\n",
            "../data/dataset_reduced/ups_3/sub_19.csv\n",
            "../data/dataset_reduced/ups_3/sub_15.csv\n",
            "../data/dataset_reduced/ups_3/sub_12.csv\n",
            "../data/dataset_reduced/ups_3/sub_17.csv\n",
            "../data/dataset_reduced/ups_3/sub_18.csv\n",
            "../data/dataset_reduced/ups_3/sub_7.csv\n",
            "../data/dataset_reduced/ups_3/sub_21.csv\n",
            "../data/dataset_reduced/dws_11/sub_1.csv\n",
            "../data/dataset_reduced/dws_11/sub_24.csv\n",
            "../data/dataset_reduced/dws_11/sub_22.csv\n",
            "../data/dataset_reduced/dws_11/sub_9.csv\n",
            "../data/dataset_reduced/dws_11/sub_2.csv\n",
            "../data/dataset_reduced/dws_11/sub_23.csv\n",
            "../data/dataset_reduced/dws_11/sub_20.csv\n",
            "../data/dataset_reduced/dws_11/sub_11.csv\n",
            "../data/dataset_reduced/dws_11/sub_13.csv\n",
            "../data/dataset_reduced/dws_11/sub_10.csv\n",
            "../data/dataset_reduced/dws_11/sub_6.csv\n",
            "../data/dataset_reduced/dws_11/sub_3.csv\n",
            "../data/dataset_reduced/dws_11/sub_14.csv\n",
            "../data/dataset_reduced/dws_11/sub_16.csv\n",
            "../data/dataset_reduced/dws_11/sub_4.csv\n",
            "../data/dataset_reduced/dws_11/sub_8.csv\n",
            "../data/dataset_reduced/dws_11/sub_5.csv\n",
            "../data/dataset_reduced/dws_11/sub_19.csv\n",
            "../data/dataset_reduced/dws_11/sub_15.csv\n",
            "../data/dataset_reduced/dws_11/sub_12.csv\n",
            "../data/dataset_reduced/dws_11/sub_17.csv\n",
            "../data/dataset_reduced/dws_11/sub_18.csv\n",
            "../data/dataset_reduced/dws_11/sub_7.csv\n",
            "../data/dataset_reduced/dws_11/sub_21.csv\n",
            "../data/dataset_reduced/std_6/sub_1.csv\n",
            "../data/dataset_reduced/std_6/sub_24.csv\n",
            "../data/dataset_reduced/std_6/sub_22.csv\n",
            "../data/dataset_reduced/std_6/sub_9.csv\n",
            "../data/dataset_reduced/std_6/sub_2.csv\n",
            "../data/dataset_reduced/std_6/sub_23.csv\n",
            "../data/dataset_reduced/std_6/sub_20.csv\n",
            "../data/dataset_reduced/std_6/sub_11.csv\n",
            "../data/dataset_reduced/std_6/sub_13.csv\n",
            "../data/dataset_reduced/std_6/sub_10.csv\n",
            "../data/dataset_reduced/std_6/sub_6.csv\n",
            "../data/dataset_reduced/std_6/sub_3.csv\n",
            "../data/dataset_reduced/std_6/sub_14.csv\n",
            "../data/dataset_reduced/std_6/sub_16.csv\n",
            "../data/dataset_reduced/std_6/sub_4.csv\n",
            "../data/dataset_reduced/std_6/sub_8.csv\n",
            "../data/dataset_reduced/std_6/sub_5.csv\n",
            "../data/dataset_reduced/std_6/sub_19.csv\n",
            "../data/dataset_reduced/std_6/sub_15.csv\n",
            "../data/dataset_reduced/std_6/sub_12.csv\n",
            "../data/dataset_reduced/std_6/sub_17.csv\n",
            "../data/dataset_reduced/std_6/sub_18.csv\n",
            "../data/dataset_reduced/std_6/sub_7.csv\n",
            "../data/dataset_reduced/std_6/sub_21.csv\n",
            "../data/dataset_reduced/wlk_8/sub_1.csv\n",
            "../data/dataset_reduced/wlk_8/sub_24.csv\n",
            "../data/dataset_reduced/wlk_8/sub_22.csv\n",
            "../data/dataset_reduced/wlk_8/sub_9.csv\n",
            "../data/dataset_reduced/wlk_8/sub_2.csv\n",
            "../data/dataset_reduced/wlk_8/sub_23.csv\n",
            "../data/dataset_reduced/wlk_8/sub_20.csv\n",
            "../data/dataset_reduced/wlk_8/sub_11.csv\n",
            "../data/dataset_reduced/wlk_8/sub_13.csv\n",
            "../data/dataset_reduced/wlk_8/sub_10.csv\n",
            "../data/dataset_reduced/wlk_8/sub_6.csv\n",
            "../data/dataset_reduced/wlk_8/sub_3.csv\n",
            "../data/dataset_reduced/wlk_8/sub_14.csv\n",
            "../data/dataset_reduced/wlk_8/sub_16.csv\n",
            "../data/dataset_reduced/wlk_8/sub_4.csv\n",
            "../data/dataset_reduced/wlk_8/sub_8.csv\n",
            "../data/dataset_reduced/wlk_8/sub_5.csv\n",
            "../data/dataset_reduced/wlk_8/sub_19.csv\n",
            "../data/dataset_reduced/wlk_8/sub_15.csv\n",
            "../data/dataset_reduced/wlk_8/sub_12.csv\n",
            "../data/dataset_reduced/wlk_8/sub_17.csv\n",
            "../data/dataset_reduced/wlk_8/sub_18.csv\n",
            "../data/dataset_reduced/wlk_8/sub_7.csv\n",
            "../data/dataset_reduced/wlk_8/sub_21.csv\n",
            "../data/dataset_reduced/sit_13/sub_1.csv\n",
            "../data/dataset_reduced/sit_13/sub_24.csv\n",
            "../data/dataset_reduced/sit_13/sub_22.csv\n",
            "../data/dataset_reduced/sit_13/sub_9.csv\n",
            "../data/dataset_reduced/sit_13/sub_2.csv\n",
            "../data/dataset_reduced/sit_13/sub_23.csv\n",
            "../data/dataset_reduced/sit_13/sub_20.csv\n",
            "../data/dataset_reduced/sit_13/sub_11.csv\n",
            "../data/dataset_reduced/sit_13/sub_13.csv\n",
            "../data/dataset_reduced/sit_13/sub_10.csv\n",
            "../data/dataset_reduced/sit_13/sub_6.csv\n",
            "../data/dataset_reduced/sit_13/sub_3.csv\n",
            "../data/dataset_reduced/sit_13/sub_14.csv\n",
            "../data/dataset_reduced/sit_13/sub_16.csv\n",
            "../data/dataset_reduced/sit_13/sub_4.csv\n",
            "../data/dataset_reduced/sit_13/sub_8.csv\n",
            "../data/dataset_reduced/sit_13/sub_5.csv\n",
            "../data/dataset_reduced/sit_13/sub_19.csv\n",
            "../data/dataset_reduced/sit_13/sub_15.csv\n",
            "../data/dataset_reduced/sit_13/sub_12.csv\n",
            "../data/dataset_reduced/sit_13/sub_17.csv\n",
            "../data/dataset_reduced/sit_13/sub_18.csv\n",
            "../data/dataset_reduced/sit_13/sub_7.csv\n",
            "../data/dataset_reduced/sit_13/sub_21.csv\n",
            "../data/dataset_reduced/std_14/sub_1.csv\n",
            "../data/dataset_reduced/std_14/sub_24.csv\n",
            "../data/dataset_reduced/std_14/sub_22.csv\n",
            "../data/dataset_reduced/std_14/sub_9.csv\n",
            "../data/dataset_reduced/std_14/sub_2.csv\n",
            "../data/dataset_reduced/std_14/sub_23.csv\n",
            "../data/dataset_reduced/std_14/sub_20.csv\n",
            "../data/dataset_reduced/std_14/sub_11.csv\n",
            "../data/dataset_reduced/std_14/sub_13.csv\n",
            "../data/dataset_reduced/std_14/sub_10.csv\n",
            "../data/dataset_reduced/std_14/sub_6.csv\n",
            "../data/dataset_reduced/std_14/sub_3.csv\n",
            "../data/dataset_reduced/std_14/sub_14.csv\n",
            "../data/dataset_reduced/std_14/sub_16.csv\n",
            "../data/dataset_reduced/std_14/sub_4.csv\n",
            "../data/dataset_reduced/std_14/sub_8.csv\n",
            "../data/dataset_reduced/std_14/sub_5.csv\n",
            "../data/dataset_reduced/std_14/sub_19.csv\n",
            "../data/dataset_reduced/std_14/sub_15.csv\n",
            "../data/dataset_reduced/std_14/sub_12.csv\n",
            "../data/dataset_reduced/std_14/sub_17.csv\n",
            "../data/dataset_reduced/std_14/sub_18.csv\n",
            "../data/dataset_reduced/std_14/sub_7.csv\n",
            "../data/dataset_reduced/std_14/sub_21.csv\n",
            "../data/dataset_reduced/ups_4/sub_1.csv\n",
            "../data/dataset_reduced/ups_4/sub_24.csv\n",
            "../data/dataset_reduced/ups_4/sub_22.csv\n",
            "../data/dataset_reduced/ups_4/sub_9.csv\n",
            "../data/dataset_reduced/ups_4/sub_2.csv\n",
            "../data/dataset_reduced/ups_4/sub_23.csv\n",
            "../data/dataset_reduced/ups_4/sub_20.csv\n",
            "../data/dataset_reduced/ups_4/sub_11.csv\n",
            "../data/dataset_reduced/ups_4/sub_13.csv\n",
            "../data/dataset_reduced/ups_4/sub_10.csv\n",
            "../data/dataset_reduced/ups_4/sub_6.csv\n",
            "../data/dataset_reduced/ups_4/sub_3.csv\n",
            "../data/dataset_reduced/ups_4/sub_14.csv\n",
            "../data/dataset_reduced/ups_4/sub_16.csv\n",
            "../data/dataset_reduced/ups_4/sub_4.csv\n",
            "../data/dataset_reduced/ups_4/sub_8.csv\n",
            "../data/dataset_reduced/ups_4/sub_5.csv\n",
            "../data/dataset_reduced/ups_4/sub_19.csv\n",
            "../data/dataset_reduced/ups_4/sub_15.csv\n",
            "../data/dataset_reduced/ups_4/sub_12.csv\n",
            "../data/dataset_reduced/ups_4/sub_17.csv\n",
            "../data/dataset_reduced/ups_4/sub_18.csv\n",
            "../data/dataset_reduced/ups_4/sub_7.csv\n",
            "../data/dataset_reduced/ups_4/sub_21.csv\n",
            "../data/dataset_reduced/jog_9/sub_1.csv\n",
            "../data/dataset_reduced/jog_9/sub_24.csv\n",
            "../data/dataset_reduced/jog_9/sub_22.csv\n",
            "../data/dataset_reduced/jog_9/sub_9.csv\n",
            "../data/dataset_reduced/jog_9/sub_2.csv\n",
            "../data/dataset_reduced/jog_9/sub_23.csv\n",
            "../data/dataset_reduced/jog_9/sub_20.csv\n",
            "../data/dataset_reduced/jog_9/sub_11.csv\n",
            "../data/dataset_reduced/jog_9/sub_13.csv\n",
            "../data/dataset_reduced/jog_9/sub_10.csv\n",
            "../data/dataset_reduced/jog_9/sub_6.csv\n",
            "../data/dataset_reduced/jog_9/sub_3.csv\n",
            "../data/dataset_reduced/jog_9/sub_14.csv\n",
            "../data/dataset_reduced/jog_9/sub_16.csv\n",
            "../data/dataset_reduced/jog_9/sub_4.csv\n",
            "../data/dataset_reduced/jog_9/sub_8.csv\n",
            "../data/dataset_reduced/jog_9/sub_5.csv\n",
            "../data/dataset_reduced/jog_9/sub_19.csv\n",
            "../data/dataset_reduced/jog_9/sub_15.csv\n",
            "../data/dataset_reduced/jog_9/sub_12.csv\n",
            "../data/dataset_reduced/jog_9/sub_17.csv\n",
            "../data/dataset_reduced/jog_9/sub_18.csv\n",
            "../data/dataset_reduced/jog_9/sub_7.csv\n",
            "../data/dataset_reduced/jog_9/sub_21.csv\n",
            "../data/dataset_reduced/wlk_7/sub_1.csv\n",
            "../data/dataset_reduced/wlk_7/sub_24.csv\n",
            "../data/dataset_reduced/wlk_7/sub_22.csv\n",
            "../data/dataset_reduced/wlk_7/sub_9.csv\n",
            "../data/dataset_reduced/wlk_7/sub_2.csv\n",
            "../data/dataset_reduced/wlk_7/sub_23.csv\n",
            "../data/dataset_reduced/wlk_7/sub_20.csv\n",
            "../data/dataset_reduced/wlk_7/sub_11.csv\n",
            "../data/dataset_reduced/wlk_7/sub_13.csv\n",
            "../data/dataset_reduced/wlk_7/sub_10.csv\n",
            "../data/dataset_reduced/wlk_7/sub_6.csv\n",
            "../data/dataset_reduced/wlk_7/sub_3.csv\n",
            "../data/dataset_reduced/wlk_7/sub_14.csv\n",
            "../data/dataset_reduced/wlk_7/sub_16.csv\n",
            "../data/dataset_reduced/wlk_7/sub_4.csv\n",
            "../data/dataset_reduced/wlk_7/sub_8.csv\n",
            "../data/dataset_reduced/wlk_7/sub_5.csv\n",
            "../data/dataset_reduced/wlk_7/sub_19.csv\n",
            "../data/dataset_reduced/wlk_7/sub_15.csv\n",
            "../data/dataset_reduced/wlk_7/sub_12.csv\n",
            "../data/dataset_reduced/wlk_7/sub_17.csv\n",
            "../data/dataset_reduced/wlk_7/sub_18.csv\n",
            "../data/dataset_reduced/wlk_7/sub_7.csv\n",
            "../data/dataset_reduced/wlk_7/sub_21.csv\n",
            "../data/dataset_reduced/jog_16/sub_1.csv\n",
            "../data/dataset_reduced/jog_16/sub_24.csv\n",
            "../data/dataset_reduced/jog_16/sub_22.csv\n",
            "../data/dataset_reduced/jog_16/sub_9.csv\n",
            "../data/dataset_reduced/jog_16/sub_2.csv\n",
            "../data/dataset_reduced/jog_16/sub_23.csv\n",
            "../data/dataset_reduced/jog_16/sub_20.csv\n",
            "../data/dataset_reduced/jog_16/sub_11.csv\n",
            "../data/dataset_reduced/jog_16/sub_13.csv\n",
            "../data/dataset_reduced/jog_16/sub_10.csv\n",
            "../data/dataset_reduced/jog_16/sub_6.csv\n",
            "../data/dataset_reduced/jog_16/sub_3.csv\n",
            "../data/dataset_reduced/jog_16/sub_14.csv\n",
            "../data/dataset_reduced/jog_16/sub_16.csv\n",
            "../data/dataset_reduced/jog_16/sub_4.csv\n",
            "../data/dataset_reduced/jog_16/sub_8.csv\n",
            "../data/dataset_reduced/jog_16/sub_5.csv\n",
            "../data/dataset_reduced/jog_16/sub_19.csv\n",
            "../data/dataset_reduced/jog_16/sub_15.csv\n",
            "../data/dataset_reduced/jog_16/sub_12.csv\n",
            "../data/dataset_reduced/jog_16/sub_17.csv\n",
            "../data/dataset_reduced/jog_16/sub_18.csv\n",
            "../data/dataset_reduced/jog_16/sub_7.csv\n",
            "../data/dataset_reduced/jog_16/sub_21.csv\n",
            "../data/dataset_reduced/wlk_15/sub_1.csv\n",
            "../data/dataset_reduced/wlk_15/sub_24.csv\n",
            "../data/dataset_reduced/wlk_15/sub_22.csv\n",
            "../data/dataset_reduced/wlk_15/sub_9.csv\n",
            "../data/dataset_reduced/wlk_15/sub_2.csv\n",
            "../data/dataset_reduced/wlk_15/sub_23.csv\n",
            "../data/dataset_reduced/wlk_15/sub_20.csv\n",
            "../data/dataset_reduced/wlk_15/sub_11.csv\n",
            "../data/dataset_reduced/wlk_15/sub_13.csv\n",
            "../data/dataset_reduced/wlk_15/sub_10.csv\n",
            "../data/dataset_reduced/wlk_15/sub_6.csv\n",
            "../data/dataset_reduced/wlk_15/sub_3.csv\n",
            "../data/dataset_reduced/wlk_15/sub_14.csv\n",
            "../data/dataset_reduced/wlk_15/sub_16.csv\n",
            "../data/dataset_reduced/wlk_15/sub_4.csv\n",
            "../data/dataset_reduced/wlk_15/sub_8.csv\n",
            "../data/dataset_reduced/wlk_15/sub_5.csv\n",
            "../data/dataset_reduced/wlk_15/sub_19.csv\n",
            "../data/dataset_reduced/wlk_15/sub_15.csv\n",
            "../data/dataset_reduced/wlk_15/sub_12.csv\n",
            "../data/dataset_reduced/wlk_15/sub_17.csv\n",
            "../data/dataset_reduced/wlk_15/sub_18.csv\n",
            "../data/dataset_reduced/wlk_15/sub_7.csv\n",
            "../data/dataset_reduced/wlk_15/sub_21.csv\n",
            "../data/dataset_reduced/dws_2/sub_1.csv\n",
            "../data/dataset_reduced/dws_2/sub_24.csv\n",
            "../data/dataset_reduced/dws_2/sub_22.csv\n",
            "../data/dataset_reduced/dws_2/sub_9.csv\n",
            "../data/dataset_reduced/dws_2/sub_2.csv\n",
            "../data/dataset_reduced/dws_2/sub_23.csv\n",
            "../data/dataset_reduced/dws_2/sub_20.csv\n",
            "../data/dataset_reduced/dws_2/sub_11.csv\n",
            "../data/dataset_reduced/dws_2/sub_13.csv\n",
            "../data/dataset_reduced/dws_2/sub_10.csv\n",
            "../data/dataset_reduced/dws_2/sub_6.csv\n",
            "../data/dataset_reduced/dws_2/sub_3.csv\n",
            "../data/dataset_reduced/dws_2/sub_14.csv\n",
            "../data/dataset_reduced/dws_2/sub_16.csv\n",
            "../data/dataset_reduced/dws_2/sub_4.csv\n",
            "../data/dataset_reduced/dws_2/sub_8.csv\n",
            "../data/dataset_reduced/dws_2/sub_5.csv\n",
            "../data/dataset_reduced/dws_2/sub_19.csv\n",
            "../data/dataset_reduced/dws_2/sub_15.csv\n",
            "../data/dataset_reduced/dws_2/sub_12.csv\n",
            "../data/dataset_reduced/dws_2/sub_17.csv\n",
            "../data/dataset_reduced/dws_2/sub_18.csv\n",
            "../data/dataset_reduced/dws_2/sub_7.csv\n",
            "../data/dataset_reduced/dws_2/sub_21.csv\n",
            "../data/dataset_reduced/sit_5/sub_1.csv\n",
            "../data/dataset_reduced/sit_5/sub_24.csv\n",
            "../data/dataset_reduced/sit_5/sub_22.csv\n",
            "../data/dataset_reduced/sit_5/sub_9.csv\n",
            "../data/dataset_reduced/sit_5/sub_2.csv\n",
            "../data/dataset_reduced/sit_5/sub_23.csv\n",
            "../data/dataset_reduced/sit_5/sub_20.csv\n",
            "../data/dataset_reduced/sit_5/sub_11.csv\n",
            "../data/dataset_reduced/sit_5/sub_13.csv\n",
            "../data/dataset_reduced/sit_5/sub_10.csv\n",
            "../data/dataset_reduced/sit_5/sub_6.csv\n",
            "../data/dataset_reduced/sit_5/sub_3.csv\n",
            "../data/dataset_reduced/sit_5/sub_14.csv\n",
            "../data/dataset_reduced/sit_5/sub_16.csv\n",
            "../data/dataset_reduced/sit_5/sub_4.csv\n",
            "../data/dataset_reduced/sit_5/sub_8.csv\n",
            "../data/dataset_reduced/sit_5/sub_5.csv\n",
            "../data/dataset_reduced/sit_5/sub_19.csv\n",
            "../data/dataset_reduced/sit_5/sub_15.csv\n",
            "../data/dataset_reduced/sit_5/sub_12.csv\n",
            "../data/dataset_reduced/sit_5/sub_17.csv\n",
            "../data/dataset_reduced/sit_5/sub_18.csv\n",
            "../data/dataset_reduced/sit_5/sub_7.csv\n",
            "../data/dataset_reduced/sit_5/sub_21.csv\n",
            "../data/dataset_reduced/dws_1/sub_1.csv\n",
            "../data/dataset_reduced/dws_1/sub_24.csv\n",
            "../data/dataset_reduced/dws_1/sub_22.csv\n",
            "../data/dataset_reduced/dws_1/sub_9.csv\n",
            "../data/dataset_reduced/dws_1/sub_2.csv\n",
            "../data/dataset_reduced/dws_1/sub_23.csv\n",
            "../data/dataset_reduced/dws_1/sub_20.csv\n",
            "../data/dataset_reduced/dws_1/sub_11.csv\n",
            "../data/dataset_reduced/dws_1/sub_13.csv\n",
            "../data/dataset_reduced/dws_1/sub_10.csv\n",
            "../data/dataset_reduced/dws_1/sub_6.csv\n",
            "../data/dataset_reduced/dws_1/sub_3.csv\n",
            "../data/dataset_reduced/dws_1/sub_14.csv\n",
            "../data/dataset_reduced/dws_1/sub_16.csv\n",
            "../data/dataset_reduced/dws_1/sub_4.csv\n",
            "../data/dataset_reduced/dws_1/sub_8.csv\n",
            "../data/dataset_reduced/dws_1/sub_5.csv\n",
            "../data/dataset_reduced/dws_1/sub_19.csv\n",
            "../data/dataset_reduced/dws_1/sub_15.csv\n",
            "../data/dataset_reduced/dws_1/sub_12.csv\n",
            "../data/dataset_reduced/dws_1/sub_17.csv\n",
            "../data/dataset_reduced/dws_1/sub_18.csv\n",
            "../data/dataset_reduced/dws_1/sub_7.csv\n",
            "../data/dataset_reduced/dws_1/sub_21.csv\n",
            "../data/dataset_reduced/ups_12/sub_1.csv\n",
            "../data/dataset_reduced/ups_12/sub_24.csv\n",
            "../data/dataset_reduced/ups_12/sub_22.csv\n",
            "../data/dataset_reduced/ups_12/sub_9.csv\n",
            "../data/dataset_reduced/ups_12/sub_2.csv\n",
            "../data/dataset_reduced/ups_12/sub_23.csv\n",
            "../data/dataset_reduced/ups_12/sub_20.csv\n",
            "../data/dataset_reduced/ups_12/sub_11.csv\n",
            "../data/dataset_reduced/ups_12/sub_13.csv\n",
            "../data/dataset_reduced/ups_12/sub_10.csv\n",
            "../data/dataset_reduced/ups_12/sub_6.csv\n",
            "../data/dataset_reduced/ups_12/sub_3.csv\n",
            "../data/dataset_reduced/ups_12/sub_14.csv\n",
            "../data/dataset_reduced/ups_12/sub_16.csv\n",
            "../data/dataset_reduced/ups_12/sub_4.csv\n",
            "../data/dataset_reduced/ups_12/sub_8.csv\n",
            "../data/dataset_reduced/ups_12/sub_5.csv\n",
            "../data/dataset_reduced/ups_12/sub_19.csv\n",
            "../data/dataset_reduced/ups_12/sub_15.csv\n",
            "../data/dataset_reduced/ups_12/sub_12.csv\n",
            "../data/dataset_reduced/ups_12/sub_17.csv\n",
            "../data/dataset_reduced/ups_12/sub_18.csv\n",
            "../data/dataset_reduced/ups_12/sub_7.csv\n",
            "../data/dataset_reduced/ups_12/sub_21.csv\n"
          ]
        }
      ],
      "source": [
        "# change these following three lines only\n",
        "subject_data_file = 'data_subjects_info.csv'\n",
        "data_dir = '../data/dataset_reduced'\n",
        "\n",
        "# List all files in a directory using os.listdir\n",
        "def get_file_paths(data_dir):\n",
        "    files = []\n",
        "    for dirname, _, filenames in os.walk(data_dir):\n",
        "        for filename in filenames:\n",
        "            files.append(os.path.join(dirname, filename))\n",
        "    return files\n",
        "\n",
        "def get_all_data(file_paths, meta):\n",
        "    df = pd.DataFrame()\n",
        "\n",
        "    for p in file_paths:\n",
        "        print(p)\n",
        "        c_dir, c_file = p.split('/')[-2], p.split('/')[-1]\n",
        "        c_cat, c_ses = c_dir.split('_')[-2], c_dir.split('_')[-1]\n",
        "        c_sub = c_file.split('_')[-1].split('.')[-2]\n",
        "        \n",
        "        tdf = pd.read_csv(p, encoding = \"utf-8\")\n",
        "        tdf = tdf.assign(subject_id = int(c_sub))\n",
        "        tdf = tdf.assign(session_id = int(c_ses))\n",
        "        tdf = tdf.assign(category = str(c_cat))\n",
        "        tdf = tdf.assign(age = int(meta.age[int(c_sub) - 1]))\n",
        "        tdf = tdf.assign(gender = int(meta.gender[int(c_sub) - 1]))\n",
        "        tdf = tdf.assign(height = int(meta.height[int(c_sub) - 1]))\n",
        "        tdf = tdf.assign(weight = int(meta.weight[int(c_sub) - 1]))\n",
        "\n",
        "        df = pd.concat([df, tdf])\n",
        "    df.reset_index(drop=True, inplace=True)\n",
        "    return df\n",
        "    \n",
        "subject_data_frame = pd.read_csv(subject_data_file)\n",
        "file_paths = get_file_paths(data_dir)\n",
        "data_frame = get_all_data(file_paths, subject_data_frame)"
      ]
    },
    {
      "cell_type": "code",
      "execution_count": 42,
      "metadata": {},
      "outputs": [
        {
          "name": "stdout",
          "output_type": "stream",
          "text": [
            "<class 'pandas.core.frame.DataFrame'>\n",
            "RangeIndex: 1412865 entries, 0 to 1412864\n",
            "Data columns (total 14 columns):\n",
            " #   Column              Non-Null Count    Dtype  \n",
            "---  ------              --------------    -----  \n",
            " 0   Unnamed: 0          1412865 non-null  int64  \n",
            " 1   gravity.x           1412865 non-null  float64\n",
            " 2   gravity.y           1412865 non-null  float64\n",
            " 3   gravity.z           1412865 non-null  float64\n",
            " 4   userAcceleration.x  1412865 non-null  float64\n",
            " 5   userAcceleration.y  1412865 non-null  float64\n",
            " 6   userAcceleration.z  1412865 non-null  float64\n",
            " 7   subject_id          1412865 non-null  int64  \n",
            " 8   session_id          1412865 non-null  int64  \n",
            " 9   category            1412865 non-null  object \n",
            " 10  age                 1412865 non-null  int64  \n",
            " 11  gender              1412865 non-null  int64  \n",
            " 12  height              1412865 non-null  int64  \n",
            " 13  weight              1412865 non-null  int64  \n",
            "dtypes: float64(6), int64(7), object(1)\n",
            "memory usage: 150.9+ MB\n"
          ]
        }
      ],
      "source": [
        "# Show the info for dataset\n",
        "data_frame.info()"
      ]
    },
    {
      "cell_type": "code",
      "execution_count": 43,
      "metadata": {},
      "outputs": [],
      "source": [
        "# Copying dataframe and dropping unnecessary columns\n",
        "df = data_frame.copy()\n",
        "df.drop('Unnamed: 0', axis=1, inplace=True)\n",
        "df.drop('subject_id', axis=1, inplace=True)\n",
        "df.drop('session_id', axis=1, inplace=True)\n",
        "df.drop('age', axis=1, inplace=True)\n",
        "df.drop('gender', axis=1, inplace=True)\n",
        "df.drop('height', axis=1, inplace=True)\n",
        "df.drop('weight', axis=1, inplace=True)"
      ]
    },
    {
      "cell_type": "code",
      "execution_count": 44,
      "metadata": {},
      "outputs": [
        {
          "name": "stdout",
          "output_type": "stream",
          "text": [
            "<class 'pandas.core.frame.DataFrame'>\n",
            "RangeIndex: 1412865 entries, 0 to 1412864\n",
            "Data columns (total 7 columns):\n",
            " #   Column              Non-Null Count    Dtype  \n",
            "---  ------              --------------    -----  \n",
            " 0   gravity.x           1412865 non-null  float64\n",
            " 1   gravity.y           1412865 non-null  float64\n",
            " 2   gravity.z           1412865 non-null  float64\n",
            " 3   userAcceleration.x  1412865 non-null  float64\n",
            " 4   userAcceleration.y  1412865 non-null  float64\n",
            " 5   userAcceleration.z  1412865 non-null  float64\n",
            " 6   category            1412865 non-null  object \n",
            "dtypes: float64(6), object(1)\n",
            "memory usage: 75.5+ MB\n"
          ]
        }
      ],
      "source": [
        "df.info()"
      ]
    },
    {
      "cell_type": "markdown",
      "metadata": {},
      "source": [
        "# **Data Preprocessing**"
      ]
    },
    {
      "cell_type": "code",
      "execution_count": 45,
      "metadata": {},
      "outputs": [
        {
          "data": {
            "text/html": [
              "<div>\n",
              "<style scoped>\n",
              "    .dataframe tbody tr th:only-of-type {\n",
              "        vertical-align: middle;\n",
              "    }\n",
              "\n",
              "    .dataframe tbody tr th {\n",
              "        vertical-align: top;\n",
              "    }\n",
              "\n",
              "    .dataframe thead th {\n",
              "        text-align: right;\n",
              "    }\n",
              "</style>\n",
              "<table border=\"1\" class=\"dataframe\">\n",
              "  <thead>\n",
              "    <tr style=\"text-align: right;\">\n",
              "      <th></th>\n",
              "      <th>gravity.x</th>\n",
              "      <th>gravity.y</th>\n",
              "      <th>gravity.z</th>\n",
              "      <th>userAcceleration.x</th>\n",
              "      <th>userAcceleration.y</th>\n",
              "      <th>userAcceleration.z</th>\n",
              "      <th>code</th>\n",
              "    </tr>\n",
              "  </thead>\n",
              "  <tbody>\n",
              "    <tr>\n",
              "      <th>0</th>\n",
              "      <td>-0.105250</td>\n",
              "      <td>0.975407</td>\n",
              "      <td>0.193659</td>\n",
              "      <td>0.319743</td>\n",
              "      <td>-0.332096</td>\n",
              "      <td>0.136877</td>\n",
              "      <td>4</td>\n",
              "    </tr>\n",
              "    <tr>\n",
              "      <th>1</th>\n",
              "      <td>-0.122740</td>\n",
              "      <td>0.970095</td>\n",
              "      <td>0.209403</td>\n",
              "      <td>0.410796</td>\n",
              "      <td>-0.161044</td>\n",
              "      <td>0.162072</td>\n",
              "      <td>4</td>\n",
              "    </tr>\n",
              "    <tr>\n",
              "      <th>2</th>\n",
              "      <td>-0.141604</td>\n",
              "      <td>0.967799</td>\n",
              "      <td>0.208119</td>\n",
              "      <td>0.322085</td>\n",
              "      <td>-0.037882</td>\n",
              "      <td>0.068019</td>\n",
              "      <td>4</td>\n",
              "    </tr>\n",
              "    <tr>\n",
              "      <th>3</th>\n",
              "      <td>-0.153716</td>\n",
              "      <td>0.965805</td>\n",
              "      <td>0.208787</td>\n",
              "      <td>-0.074738</td>\n",
              "      <td>0.018051</td>\n",
              "      <td>-0.379288</td>\n",
              "      <td>4</td>\n",
              "    </tr>\n",
              "    <tr>\n",
              "      <th>4</th>\n",
              "      <td>-0.155612</td>\n",
              "      <td>0.962724</td>\n",
              "      <td>0.221242</td>\n",
              "      <td>-0.003415</td>\n",
              "      <td>-0.068849</td>\n",
              "      <td>-0.104970</td>\n",
              "      <td>4</td>\n",
              "    </tr>\n",
              "    <tr>\n",
              "      <th>...</th>\n",
              "      <td>...</td>\n",
              "      <td>...</td>\n",
              "      <td>...</td>\n",
              "      <td>...</td>\n",
              "      <td>...</td>\n",
              "      <td>...</td>\n",
              "      <td>...</td>\n",
              "    </tr>\n",
              "    <tr>\n",
              "      <th>1412860</th>\n",
              "      <td>-0.536797</td>\n",
              "      <td>0.602458</td>\n",
              "      <td>-0.590668</td>\n",
              "      <td>-0.151634</td>\n",
              "      <td>0.034764</td>\n",
              "      <td>0.209625</td>\n",
              "      <td>4</td>\n",
              "    </tr>\n",
              "    <tr>\n",
              "      <th>1412861</th>\n",
              "      <td>-0.497125</td>\n",
              "      <td>0.641727</td>\n",
              "      <td>-0.583994</td>\n",
              "      <td>-0.079276</td>\n",
              "      <td>-0.223941</td>\n",
              "      <td>0.319391</td>\n",
              "      <td>4</td>\n",
              "    </tr>\n",
              "    <tr>\n",
              "      <th>1412862</th>\n",
              "      <td>-0.463856</td>\n",
              "      <td>0.680295</td>\n",
              "      <td>-0.567478</td>\n",
              "      <td>0.023212</td>\n",
              "      <td>-0.117475</td>\n",
              "      <td>0.182590</td>\n",
              "      <td>4</td>\n",
              "    </tr>\n",
              "    <tr>\n",
              "      <th>1412863</th>\n",
              "      <td>-0.440328</td>\n",
              "      <td>0.717594</td>\n",
              "      <td>-0.539597</td>\n",
              "      <td>0.102208</td>\n",
              "      <td>0.066174</td>\n",
              "      <td>0.137314</td>\n",
              "      <td>4</td>\n",
              "    </tr>\n",
              "    <tr>\n",
              "      <th>1412864</th>\n",
              "      <td>-0.415947</td>\n",
              "      <td>0.753486</td>\n",
              "      <td>-0.509157</td>\n",
              "      <td>0.172707</td>\n",
              "      <td>0.183541</td>\n",
              "      <td>0.157747</td>\n",
              "      <td>4</td>\n",
              "    </tr>\n",
              "  </tbody>\n",
              "</table>\n",
              "<p>1412865 rows × 7 columns</p>\n",
              "</div>"
            ],
            "text/plain": [
              "         gravity.x  gravity.y  gravity.z  userAcceleration.x  \\\n",
              "0        -0.105250   0.975407   0.193659            0.319743   \n",
              "1        -0.122740   0.970095   0.209403            0.410796   \n",
              "2        -0.141604   0.967799   0.208119            0.322085   \n",
              "3        -0.153716   0.965805   0.208787           -0.074738   \n",
              "4        -0.155612   0.962724   0.221242           -0.003415   \n",
              "...            ...        ...        ...                 ...   \n",
              "1412860  -0.536797   0.602458  -0.590668           -0.151634   \n",
              "1412861  -0.497125   0.641727  -0.583994           -0.079276   \n",
              "1412862  -0.463856   0.680295  -0.567478            0.023212   \n",
              "1412863  -0.440328   0.717594  -0.539597            0.102208   \n",
              "1412864  -0.415947   0.753486  -0.509157            0.172707   \n",
              "\n",
              "         userAcceleration.y  userAcceleration.z  code  \n",
              "0                 -0.332096            0.136877     4  \n",
              "1                 -0.161044            0.162072     4  \n",
              "2                 -0.037882            0.068019     4  \n",
              "3                  0.018051           -0.379288     4  \n",
              "4                 -0.068849           -0.104970     4  \n",
              "...                     ...                 ...   ...  \n",
              "1412860            0.034764            0.209625     4  \n",
              "1412861           -0.223941            0.319391     4  \n",
              "1412862           -0.117475            0.182590     4  \n",
              "1412863            0.066174            0.137314     4  \n",
              "1412864            0.183541            0.157747     4  \n",
              "\n",
              "[1412865 rows x 7 columns]"
            ]
          },
          "execution_count": 45,
          "metadata": {},
          "output_type": "execute_result"
        }
      ],
      "source": [
        "from sklearn.preprocessing import LabelEncoder\n",
        "\n",
        "lEncoder = LabelEncoder()\n",
        "labels = lEncoder.fit(df.category)\n",
        "df['code'] = lEncoder.transform(df.category)\n",
        "df.drop('category', axis=1, inplace=True)\n",
        "df"
      ]
    },
    {
      "cell_type": "code",
      "execution_count": 46,
      "metadata": {},
      "outputs": [
        {
          "data": {
            "text/plain": [
              "array(['dws', 'jog', 'sit', 'std', 'ups', 'wlk'], dtype=object)"
            ]
          },
          "execution_count": 46,
          "metadata": {},
          "output_type": "execute_result"
        }
      ],
      "source": [
        "# Testing decode\n",
        "lEncoder.inverse_transform([0, 1, 2, 3, 4, 5])"
      ]
    },
    {
      "cell_type": "code",
      "execution_count": 47,
      "metadata": {},
      "outputs": [],
      "source": [
        "from sklearn.model_selection import train_test_split\n",
        "\n",
        "x_columns = df.iloc[:, 0:6]\n",
        "y_columns = df.iloc[:, 6:7]\n",
        "\n",
        "trainx, testx, trainy, testy = train_test_split(x_columns, y_columns, test_size=0.2, shuffle=False)\n",
        "assert(len(trainx) == len(trainy))"
      ]
    },
    {
      "cell_type": "code",
      "execution_count": 48,
      "metadata": {},
      "outputs": [
        {
          "name": "stdout",
          "output_type": "stream",
          "text": [
            "   gravity.x  gravity.y  gravity.z  userAcceleration.x  userAcceleration.y  \\\n",
            "0  -0.105250   0.975407   0.193659            0.319743           -0.332096   \n",
            "1  -0.122740   0.970095   0.209403            0.410796           -0.161044   \n",
            "2  -0.141604   0.967799   0.208119            0.322085           -0.037882   \n",
            "3  -0.153716   0.965805   0.208787           -0.074738            0.018051   \n",
            "4  -0.155612   0.962724   0.221242           -0.003415           -0.068849   \n",
            "\n",
            "   userAcceleration.z  \n",
            "0            0.136877  \n",
            "1            0.162072  \n",
            "2            0.068019  \n",
            "3           -0.379288  \n",
            "4           -0.104970  \n",
            "   code\n",
            "0     4\n",
            "1     4\n",
            "2     4\n",
            "3     4\n",
            "4     4\n",
            "         gravity.x  gravity.y  gravity.z  userAcceleration.x  \\\n",
            "1130292   0.400407   0.408338  -0.820325           -0.006028   \n",
            "1130293   0.400752   0.408479  -0.820087           -0.004573   \n",
            "1130294   0.401072   0.408572  -0.819884           -0.005091   \n",
            "1130295   0.401318   0.408646  -0.819727           -0.002941   \n",
            "1130296   0.401593   0.408696  -0.819567           -0.004407   \n",
            "\n",
            "         userAcceleration.y  userAcceleration.z  \n",
            "1130292            0.000658           -0.010699  \n",
            "1130293            0.002257           -0.008801  \n",
            "1130294            0.004285           -0.007249  \n",
            "1130295            0.005477           -0.004645  \n",
            "1130296            0.005732           -0.005033  \n",
            "         code\n",
            "1130292     2\n",
            "1130293     2\n",
            "1130294     2\n",
            "1130295     2\n",
            "1130296     2\n"
          ]
        }
      ],
      "source": [
        "# Preview the data\n",
        "print(trainx.head())\n",
        "print(trainy.head())\n",
        "print(testx.head())\n",
        "print(testy.head())"
      ]
    },
    {
      "cell_type": "markdown",
      "metadata": {
        "id": "-ohXkfjVblpi"
      },
      "source": [
        "# **Model Training**"
      ]
    },
    {
      "cell_type": "code",
      "execution_count": 49,
      "metadata": {},
      "outputs": [],
      "source": [
        "WINDOW_LENGTH = 150\n",
        "STRIDE_LENGTH = 10\n",
        "NUM_CLASSES = 6\n",
        "NUM_FEATURES = 6\n",
        "BATCH_SIZE = 100\n",
        "EPOCHS_SIZE = 10"
      ]
    },
    {
      "cell_type": "code",
      "execution_count": 50,
      "metadata": {
        "id": "BhcwCpEQbwUE"
      },
      "outputs": [],
      "source": [
        "from scipy.stats import mode\n",
        "\n",
        "def sequence_generator(x, y, length, stride):\n",
        "    seq_x = []\n",
        "    seq_y = []\n",
        "    data_length = len(x)\n",
        "\n",
        "    for i in range(0, data_length - length + 1, stride):\n",
        "        input_sequence = x.iloc[i : i + length]\n",
        "        target_sequence = y.iloc[i : i + length]\n",
        "        target_mode = mode(target_sequence.values)[0][0]\n",
        "        seq_x.append(input_sequence)\n",
        "        seq_y.append(target_mode)\n",
        "    return np.array(seq_x), np.array(seq_y)\n",
        "\n",
        "tx, ty = sequence_generator(trainx, trainy, WINDOW_LENGTH, STRIDE_LENGTH)\n",
        "vx, vy = sequence_generator(testx, testy, WINDOW_LENGTH, STRIDE_LENGTH)"
      ]
    },
    {
      "cell_type": "code",
      "execution_count": 51,
      "metadata": {},
      "outputs": [
        {
          "name": "stdout",
          "output_type": "stream",
          "text": [
            "(113015, 150, 6)\n",
            "(113015,)\n"
          ]
        },
        {
          "data": {
            "image/png": "[encoded data removed]",
            "text/plain": [
              "<Figure size 640x480 with 1 Axes>"
            ]
          },
          "metadata": {},
          "output_type": "display_data"
        }
      ],
      "source": [
        "# Training Preview\n",
        "print(tx.shape)\n",
        "print(ty.shape)\n",
        "\n",
        "# Plot the data\n",
        "import matplotlib.pyplot as plt\n",
        "\n",
        "plt.plot(tx[0])\n",
        "plt.show()"
      ]
    },
    {
      "cell_type": "code",
      "execution_count": 52,
      "metadata": {},
      "outputs": [],
      "source": [
        "from keras.utils import to_categorical\n",
        "\n",
        "tty = to_categorical(ty, num_classes=NUM_CLASSES)\n",
        "vvy = to_categorical(vy, num_classes=NUM_CLASSES)"
      ]
    },
    {
      "cell_type": "code",
      "execution_count": 53,
      "metadata": {},
      "outputs": [],
      "source": [
        "from keras.layers import LSTM, GRU\n",
        "from keras.models import Sequential, Model\n",
        "from keras.layers import Dense, Input, Dropout, Flatten\n",
        "from keras.optimizers import Adam"
      ]
    },
    {
      "cell_type": "code",
      "execution_count": 54,
      "metadata": {},
      "outputs": [
        {
          "name": "stderr",
          "output_type": "stream",
          "text": [
            "2024-06-13 20:56:57.336812: I external/local_xla/xla/stream_executor/cuda/cuda_executor.cc:984] could not open file to read NUMA node: /sys/bus/pci/devices/0000:01:00.0/numa_node\n",
            "Your kernel may have been built without NUMA support.\n",
            "2024-06-13 20:56:57.443861: W tensorflow/core/common_runtime/gpu/gpu_device.cc:2251] Cannot dlopen some GPU libraries. Please make sure the missing libraries mentioned above are installed properly if you would like to use GPU. Follow the guide at https://www.tensorflow.org/install/gpu for how to download and setup the required libraries for your platform.\n",
            "Skipping registering GPU devices...\n",
            "/home/rayhannarindran/programming/python/miniconda3/envs/tf-testing/lib/python3.12/site-packages/keras/src/layers/rnn/rnn.py:204: UserWarning: Do not pass an `input_shape`/`input_dim` argument to a layer. When using Sequential models, prefer using an `Input(shape)` object as the first layer in the model instead.\n",
            "  super().__init__(**kwargs)\n"
          ]
        },
        {
          "data": {
            "text/html": [
              "<pre style=\"white-space:pre;overflow-x:auto;line-height:normal;font-family:Menlo,'DejaVu Sans Mono',consolas,'Courier New',monospace\"><span style=\"font-weight: bold\">Model: \"sequential\"</span>\n",
              "</pre>\n"
            ],
            "text/plain": [
              "\u001b[1mModel: \"sequential\"\u001b[0m\n"
            ]
          },
          "metadata": {},
          "output_type": "display_data"
        },
        {
          "data": {
            "text/html": [
              "<pre style=\"white-space:pre;overflow-x:auto;line-height:normal;font-family:Menlo,'DejaVu Sans Mono',consolas,'Courier New',monospace\">┏━━━━━━━━━━━━━━━━━━━━━━━━━━━━━━━━━┳━━━━━━━━━━━━━━━━━━━━━━━━┳━━━━━━━━━━━━━━━┓\n",
              "┃<span style=\"font-weight: bold\"> Layer (type)                    </span>┃<span style=\"font-weight: bold\"> Output Shape           </span>┃<span style=\"font-weight: bold\">       Param # </span>┃\n",
              "┡━━━━━━━━━━━━━━━━━━━━━━━━━━━━━━━━━╇━━━━━━━━━━━━━━━━━━━━━━━━╇━━━━━━━━━━━━━━━┩\n",
              "│ lstm (<span style=\"color: #0087ff; text-decoration-color: #0087ff\">LSTM</span>)                     │ (<span style=\"color: #00d7ff; text-decoration-color: #00d7ff\">None</span>, <span style=\"color: #00af00; text-decoration-color: #00af00\">150</span>, <span style=\"color: #00af00; text-decoration-color: #00af00\">6</span>)         │           <span style=\"color: #00af00; text-decoration-color: #00af00\">312</span> │\n",
              "├─────────────────────────────────┼────────────────────────┼───────────────┤\n",
              "│ flatten (<span style=\"color: #0087ff; text-decoration-color: #0087ff\">Flatten</span>)               │ (<span style=\"color: #00d7ff; text-decoration-color: #00d7ff\">None</span>, <span style=\"color: #00af00; text-decoration-color: #00af00\">900</span>)            │             <span style=\"color: #00af00; text-decoration-color: #00af00\">0</span> │\n",
              "├─────────────────────────────────┼────────────────────────┼───────────────┤\n",
              "│ dense (<span style=\"color: #0087ff; text-decoration-color: #0087ff\">Dense</span>)                   │ (<span style=\"color: #00d7ff; text-decoration-color: #00d7ff\">None</span>, <span style=\"color: #00af00; text-decoration-color: #00af00\">128</span>)            │       <span style=\"color: #00af00; text-decoration-color: #00af00\">115,328</span> │\n",
              "├─────────────────────────────────┼────────────────────────┼───────────────┤\n",
              "│ dense_1 (<span style=\"color: #0087ff; text-decoration-color: #0087ff\">Dense</span>)                 │ (<span style=\"color: #00d7ff; text-decoration-color: #00d7ff\">None</span>, <span style=\"color: #00af00; text-decoration-color: #00af00\">6</span>)              │           <span style=\"color: #00af00; text-decoration-color: #00af00\">774</span> │\n",
              "└─────────────────────────────────┴────────────────────────┴───────────────┘\n",
              "</pre>\n"
            ],
            "text/plain": [
              "┏━━━━━━━━━━━━━━━━━━━━━━━━━━━━━━━━━┳━━━━━━━━━━━━━━━━━━━━━━━━┳━━━━━━━━━━━━━━━┓\n",
              "┃\u001b[1m \u001b[0m\u001b[1mLayer (type)                   \u001b[0m\u001b[1m \u001b[0m┃\u001b[1m \u001b[0m\u001b[1mOutput Shape          \u001b[0m\u001b[1m \u001b[0m┃\u001b[1m \u001b[0m\u001b[1m      Param #\u001b[0m\u001b[1m \u001b[0m┃\n",
              "┡━━━━━━━━━━━━━━━━━━━━━━━━━━━━━━━━━╇━━━━━━━━━━━━━━━━━━━━━━━━╇━━━━━━━━━━━━━━━┩\n",
              "│ lstm (\u001b[38;5;33mLSTM\u001b[0m)                     │ (\u001b[38;5;45mNone\u001b[0m, \u001b[38;5;34m150\u001b[0m, \u001b[38;5;34m6\u001b[0m)         │           \u001b[38;5;34m312\u001b[0m │\n",
              "├─────────────────────────────────┼────────────────────────┼───────────────┤\n",
              "│ flatten (\u001b[38;5;33mFlatten\u001b[0m)               │ (\u001b[38;5;45mNone\u001b[0m, \u001b[38;5;34m900\u001b[0m)            │             \u001b[38;5;34m0\u001b[0m │\n",
              "├─────────────────────────────────┼────────────────────────┼───────────────┤\n",
              "│ dense (\u001b[38;5;33mDense\u001b[0m)                   │ (\u001b[38;5;45mNone\u001b[0m, \u001b[38;5;34m128\u001b[0m)            │       \u001b[38;5;34m115,328\u001b[0m │\n",
              "├─────────────────────────────────┼────────────────────────┼───────────────┤\n",
              "│ dense_1 (\u001b[38;5;33mDense\u001b[0m)                 │ (\u001b[38;5;45mNone\u001b[0m, \u001b[38;5;34m6\u001b[0m)              │           \u001b[38;5;34m774\u001b[0m │\n",
              "└─────────────────────────────────┴────────────────────────┴───────────────┘\n"
            ]
          },
          "metadata": {},
          "output_type": "display_data"
        },
        {
          "data": {
            "text/html": [
              "<pre style=\"white-space:pre;overflow-x:auto;line-height:normal;font-family:Menlo,'DejaVu Sans Mono',consolas,'Courier New',monospace\"><span style=\"font-weight: bold\"> Total params: </span><span style=\"color: #00af00; text-decoration-color: #00af00\">116,414</span> (454.74 KB)\n",
              "</pre>\n"
            ],
            "text/plain": [
              "\u001b[1m Total params: \u001b[0m\u001b[38;5;34m116,414\u001b[0m (454.74 KB)\n"
            ]
          },
          "metadata": {},
          "output_type": "display_data"
        },
        {
          "data": {
            "text/html": [
              "<pre style=\"white-space:pre;overflow-x:auto;line-height:normal;font-family:Menlo,'DejaVu Sans Mono',consolas,'Courier New',monospace\"><span style=\"font-weight: bold\"> Trainable params: </span><span style=\"color: #00af00; text-decoration-color: #00af00\">116,414</span> (454.74 KB)\n",
              "</pre>\n"
            ],
            "text/plain": [
              "\u001b[1m Trainable params: \u001b[0m\u001b[38;5;34m116,414\u001b[0m (454.74 KB)\n"
            ]
          },
          "metadata": {},
          "output_type": "display_data"
        },
        {
          "data": {
            "text/html": [
              "<pre style=\"white-space:pre;overflow-x:auto;line-height:normal;font-family:Menlo,'DejaVu Sans Mono',consolas,'Courier New',monospace\"><span style=\"font-weight: bold\"> Non-trainable params: </span><span style=\"color: #00af00; text-decoration-color: #00af00\">0</span> (0.00 B)\n",
              "</pre>\n"
            ],
            "text/plain": [
              "\u001b[1m Non-trainable params: \u001b[0m\u001b[38;5;34m0\u001b[0m (0.00 B)\n"
            ]
          },
          "metadata": {},
          "output_type": "display_data"
        }
      ],
      "source": [
        "\n",
        "# ! Tambahin Callback, buat testing dan evaluasi\n",
        "# ! Tambahin F1Score -> Cek apakah model seimbang dengan labelnya\n",
        "# ! Kurva AUC \n",
        "\n",
        "model = Sequential(\n",
        "    [\n",
        "        Input(shape=(WINDOW_LENGTH, NUM_FEATURES)),\n",
        "        LSTM(6, input_shape=(NUM_FEATURES, NUM_FEATURES), return_sequences=True),\n",
        "        Flatten(),\n",
        "        Dense(128, activation='relu'),\n",
        "        Dense(NUM_CLASSES, activation='softmax')\n",
        "    ]\n",
        ")\n",
        "\n",
        "model.compile(optimizer=Adam(), loss='categorical_crossentropy', metrics=['accuracy'])\n",
        "model.summary()"
      ]
    },
    {
      "cell_type": "code",
      "execution_count": 55,
      "metadata": {},
      "outputs": [
        {
          "name": "stdout",
          "output_type": "stream",
          "text": [
            "Epoch 1/10\n"
          ]
        },
        {
          "name": "stderr",
          "output_type": "stream",
          "text": [
            "2024-06-13 20:57:01.587671: W external/local_tsl/tsl/framework/cpu_allocator_impl.cc:83] Allocation of 406854000 exceeds 10% of free system memory.\n"
          ]
        },
        {
          "name": "stdout",
          "output_type": "stream",
          "text": [
            "\u001b[1m1131/1131\u001b[0m \u001b[32m━━━━━━━━━━━━━━━━━━━━\u001b[0m\u001b[37m\u001b[0m \u001b[1m0s\u001b[0m 27ms/step - accuracy: 0.8291 - loss: 0.4731"
          ]
        },
        {
          "name": "stderr",
          "output_type": "stream",
          "text": [
            "2024-06-13 20:57:34.623897: W external/local_tsl/tsl/framework/cpu_allocator_impl.cc:83] Allocation of 101674800 exceeds 10% of free system memory.\n"
          ]
        },
        {
          "name": "stdout",
          "output_type": "stream",
          "text": [
            "\u001b[1m1131/1131\u001b[0m \u001b[32m━━━━━━━━━━━━━━━━━━━━\u001b[0m\u001b[37m\u001b[0m \u001b[1m34s\u001b[0m 29ms/step - accuracy: 0.8291 - loss: 0.4730 - val_accuracy: 0.9153 - val_loss: 0.4518\n",
            "Epoch 2/10\n",
            "\u001b[1m1131/1131\u001b[0m \u001b[32m━━━━━━━━━━━━━━━━━━━━\u001b[0m\u001b[37m\u001b[0m \u001b[1m33s\u001b[0m 29ms/step - accuracy: 0.9668 - loss: 0.1081 - val_accuracy: 0.9348 - val_loss: 0.5934\n",
            "Epoch 3/10\n",
            "\u001b[1m1131/1131\u001b[0m \u001b[32m━━━━━━━━━━━━━━━━━━━━\u001b[0m\u001b[37m\u001b[0m \u001b[1m33s\u001b[0m 29ms/step - accuracy: 0.9803 - loss: 0.0673 - val_accuracy: 0.9390 - val_loss: 0.6458\n",
            "Epoch 4/10\n",
            "\u001b[1m1131/1131\u001b[0m \u001b[32m━━━━━━━━━━━━━━━━━━━━\u001b[0m\u001b[37m\u001b[0m \u001b[1m35s\u001b[0m 31ms/step - accuracy: 0.9843 - loss: 0.0516 - val_accuracy: 0.9408 - val_loss: 0.7702\n",
            "Epoch 5/10\n",
            "\u001b[1m1131/1131\u001b[0m \u001b[32m━━━━━━━━━━━━━━━━━━━━\u001b[0m\u001b[37m\u001b[0m \u001b[1m32s\u001b[0m 28ms/step - accuracy: 0.9878 - loss: 0.0412 - val_accuracy: 0.9277 - val_loss: 0.8936\n",
            "Epoch 6/10\n",
            "\u001b[1m1131/1131\u001b[0m \u001b[32m━━━━━━━━━━━━━━━━━━━━\u001b[0m\u001b[37m\u001b[0m \u001b[1m33s\u001b[0m 29ms/step - accuracy: 0.9897 - loss: 0.0333 - val_accuracy: 0.9469 - val_loss: 0.9717\n",
            "Epoch 7/10\n",
            "\u001b[1m1131/1131\u001b[0m \u001b[32m━━━━━━━━━━━━━━━━━━━━\u001b[0m\u001b[37m\u001b[0m \u001b[1m32s\u001b[0m 29ms/step - accuracy: 0.9912 - loss: 0.0273 - val_accuracy: 0.9135 - val_loss: 1.1590\n",
            "Epoch 8/10\n",
            "\u001b[1m1131/1131\u001b[0m \u001b[32m━━━━━━━━━━━━━━━━━━━━\u001b[0m\u001b[37m\u001b[0m \u001b[1m33s\u001b[0m 29ms/step - accuracy: 0.9925 - loss: 0.0234 - val_accuracy: 0.9373 - val_loss: 1.1451\n",
            "Epoch 9/10\n",
            "\u001b[1m1131/1131\u001b[0m \u001b[32m━━━━━━━━━━━━━━━━━━━━\u001b[0m\u001b[37m\u001b[0m \u001b[1m32s\u001b[0m 28ms/step - accuracy: 0.9939 - loss: 0.0197 - val_accuracy: 0.9478 - val_loss: 1.2370\n",
            "Epoch 10/10\n",
            "\u001b[1m1131/1131\u001b[0m \u001b[32m━━━━━━━━━━━━━━━━━━━━\u001b[0m\u001b[37m\u001b[0m \u001b[1m32s\u001b[0m 28ms/step - accuracy: 0.9945 - loss: 0.0171 - val_accuracy: 0.9487 - val_loss: 1.2693\n"
          ]
        }
      ],
      "source": [
        "history = model.fit(tx, tty, validation_data = (vx, vvy), epochs=EPOCHS_SIZE, batch_size=BATCH_SIZE)"
      ]
    },
    {
      "cell_type": "markdown",
      "metadata": {
        "id": "4YB-PBC7bpwo"
      },
      "source": [
        "# **Model Results and Testing**"
      ]
    },
    {
      "cell_type": "code",
      "execution_count": 58,
      "metadata": {},
      "outputs": [
        {
          "name": "stdout",
          "output_type": "stream",
          "text": [
            "\u001b[1m 21/283\u001b[0m \u001b[32m━\u001b[0m\u001b[37m━━━━━━━━━━━━━━━━━━━\u001b[0m \u001b[1m2s\u001b[0m 8ms/step - accuracy: 1.0000 - loss: 1.3626e-08"
          ]
        },
        {
          "name": "stderr",
          "output_type": "stream",
          "text": [
            "2024-06-13 21:02:34.392971: W external/local_tsl/tsl/framework/cpu_allocator_impl.cc:83] Allocation of 101674800 exceeds 10% of free system memory.\n"
          ]
        },
        {
          "name": "stdout",
          "output_type": "stream",
          "text": [
            "\u001b[1m283/283\u001b[0m \u001b[32m━━━━━━━━━━━━━━━━━━━━\u001b[0m\u001b[37m\u001b[0m \u001b[1m2s\u001b[0m 7ms/step - accuracy: 0.9896 - loss: 0.2460\n"
          ]
        },
        {
          "data": {
            "text/plain": [
              "[1.2692686319351196, 0.9486598372459412]"
            ]
          },
          "execution_count": 58,
          "metadata": {},
          "output_type": "execute_result"
        }
      ],
      "source": [
        "model.evaluate(vx, vvy, batch_size=BATCH_SIZE)"
      ]
    },
    {
      "cell_type": "code",
      "execution_count": 59,
      "metadata": {
        "id": "vy3aU_2ubvy0"
      },
      "outputs": [
        {
          "data": {
            "image/png": "[encoded data removed]",
            "text/plain": [
              "<Figure size 640x480 with 1 Axes>"
            ]
          },
          "metadata": {},
          "output_type": "display_data"
        },
        {
          "data": {
            "image/png": "[encoded data removed]",
            "text/plain": [
              "<Figure size 640x480 with 1 Axes>"
            ]
          },
          "metadata": {},
          "output_type": "display_data"
        }
      ],
      "source": [
        "# Accuracy\n",
        "plt.plot(history.history['accuracy'], label='train_ac')\n",
        "plt.plot(history.history['val_accuracy'], label='test_acc')\n",
        "plt.legend()\n",
        "plt.show()\n",
        "\n",
        "# Loss\n",
        "plt.plot(history.history['loss'], label='train_loss')\n",
        "plt.plot(history.history['val_loss'], label='test_loss')\n",
        "plt.legend()\n",
        "plt.show()"
      ]
    },
    {
      "cell_type": "code",
      "execution_count": null,
      "metadata": {},
      "outputs": [
        {
          "ename": "KeyboardInterrupt",
          "evalue": "",
          "output_type": "error",
          "traceback": [
            "\u001b[1;31m---------------------------------------------------------------------------\u001b[0m",
            "\u001b[1;31mKeyboardInterrupt\u001b[0m                         Traceback (most recent call last)",
            "Cell \u001b[1;32mIn[34], line 12\u001b[0m\n\u001b[0;32m      9\u001b[0m x_train_fold, x_test_fold \u001b[38;5;241m=\u001b[39m x_columns\u001b[38;5;241m.\u001b[39miloc[train_index], x_columns\u001b[38;5;241m.\u001b[39miloc[test_index]\n\u001b[0;32m     10\u001b[0m y_train_fold, y_test_fold \u001b[38;5;241m=\u001b[39m y_columns\u001b[38;5;241m.\u001b[39miloc[train_index], y_columns\u001b[38;5;241m.\u001b[39miloc[test_index]\n\u001b[1;32m---> 12\u001b[0m tx, ty \u001b[38;5;241m=\u001b[39m \u001b[43msequence_generator\u001b[49m\u001b[43m(\u001b[49m\u001b[43mx_train_fold\u001b[49m\u001b[43m,\u001b[49m\u001b[43m \u001b[49m\u001b[43my_train_fold\u001b[49m\u001b[43m,\u001b[49m\u001b[43m \u001b[49m\u001b[43mWINDOW_LENGTH\u001b[49m\u001b[43m,\u001b[49m\u001b[43m \u001b[49m\u001b[43mSTRIDE_LENGTH\u001b[49m\u001b[43m)\u001b[49m\n\u001b[0;32m     13\u001b[0m vx, vy \u001b[38;5;241m=\u001b[39m sequence_generator(x_test_fold, y_test_fold, WINDOW_LENGTH, STRIDE_LENGTH)\n\u001b[0;32m     15\u001b[0m tty \u001b[38;5;241m=\u001b[39m to_categorical(ty, num_classes \u001b[38;5;241m=\u001b[39m NUM_CLASSES)\n",
            "Cell \u001b[1;32mIn[26], line 11\u001b[0m, in \u001b[0;36msequence_generator\u001b[1;34m(x, y, length, stride)\u001b[0m\n\u001b[0;32m      9\u001b[0m input_sequence \u001b[38;5;241m=\u001b[39m x\u001b[38;5;241m.\u001b[39miloc[i : i \u001b[38;5;241m+\u001b[39m length]\n\u001b[0;32m     10\u001b[0m target_sequence \u001b[38;5;241m=\u001b[39m y\u001b[38;5;241m.\u001b[39miloc[i : i \u001b[38;5;241m+\u001b[39m length]\n\u001b[1;32m---> 11\u001b[0m target_mode \u001b[38;5;241m=\u001b[39m \u001b[43mmode\u001b[49m\u001b[43m(\u001b[49m\u001b[43mtarget_sequence\u001b[49m\u001b[38;5;241;43m.\u001b[39;49m\u001b[43mvalues\u001b[49m\u001b[43m)\u001b[49m[\u001b[38;5;241m0\u001b[39m][\u001b[38;5;241m0\u001b[39m]\n\u001b[0;32m     12\u001b[0m seq_x\u001b[38;5;241m.\u001b[39mappend(input_sequence)\n\u001b[0;32m     13\u001b[0m seq_y\u001b[38;5;241m.\u001b[39mappend(target_mode)\n",
            "File \u001b[1;32m~\\AppData\\Roaming\\Python\\Python312\\site-packages\\scipy\\stats\\_axis_nan_policy.py:603\u001b[0m, in \u001b[0;36m_axis_nan_policy_factory.<locals>.axis_nan_policy_decorator.<locals>.axis_nan_policy_wrapper\u001b[1;34m(***failed resolving arguments***)\u001b[0m\n\u001b[0;32m    600\u001b[0m         \u001b[38;5;28;01mreturn\u001b[39;00m result_to_tuple(hypotest_fun_out(\u001b[38;5;241m*\u001b[39msamples, \u001b[38;5;241m*\u001b[39m\u001b[38;5;241m*\u001b[39mkwds))\n\u001b[0;32m    602\u001b[0m x \u001b[38;5;241m=\u001b[39m np\u001b[38;5;241m.\u001b[39mmoveaxis(x, axis, \u001b[38;5;241m0\u001b[39m)\n\u001b[1;32m--> 603\u001b[0m res \u001b[38;5;241m=\u001b[39m \u001b[43mnp\u001b[49m\u001b[38;5;241;43m.\u001b[39;49m\u001b[43mapply_along_axis\u001b[49m\u001b[43m(\u001b[49m\u001b[43mhypotest_fun\u001b[49m\u001b[43m,\u001b[49m\u001b[43m \u001b[49m\u001b[43maxis\u001b[49m\u001b[38;5;241;43m=\u001b[39;49m\u001b[38;5;241;43m0\u001b[39;49m\u001b[43m,\u001b[49m\u001b[43m \u001b[49m\u001b[43marr\u001b[49m\u001b[38;5;241;43m=\u001b[39;49m\u001b[43mx\u001b[49m\u001b[43m)\u001b[49m\n\u001b[0;32m    604\u001b[0m res \u001b[38;5;241m=\u001b[39m _add_reduced_axes(res, reduced_axes, keepdims)\n\u001b[0;32m    605\u001b[0m \u001b[38;5;28;01mreturn\u001b[39;00m tuple_to_result(\u001b[38;5;241m*\u001b[39mres)\n",
            "File \u001b[1;32m~\\AppData\\Roaming\\Python\\Python312\\site-packages\\numpy\\lib\\shape_base.py:379\u001b[0m, in \u001b[0;36mapply_along_axis\u001b[1;34m(func1d, axis, arr, *args, **kwargs)\u001b[0m\n\u001b[0;32m    375\u001b[0m \u001b[38;5;28;01mexcept\u001b[39;00m \u001b[38;5;167;01mStopIteration\u001b[39;00m:\n\u001b[0;32m    376\u001b[0m     \u001b[38;5;28;01mraise\u001b[39;00m \u001b[38;5;167;01mValueError\u001b[39;00m(\n\u001b[0;32m    377\u001b[0m         \u001b[38;5;124m'\u001b[39m\u001b[38;5;124mCannot apply_along_axis when any iteration dimensions are 0\u001b[39m\u001b[38;5;124m'\u001b[39m\n\u001b[0;32m    378\u001b[0m     ) \u001b[38;5;28;01mfrom\u001b[39;00m \u001b[38;5;28;01mNone\u001b[39;00m\n\u001b[1;32m--> 379\u001b[0m res \u001b[38;5;241m=\u001b[39m asanyarray(\u001b[43mfunc1d\u001b[49m\u001b[43m(\u001b[49m\u001b[43minarr_view\u001b[49m\u001b[43m[\u001b[49m\u001b[43mind0\u001b[49m\u001b[43m]\u001b[49m\u001b[43m,\u001b[49m\u001b[43m \u001b[49m\u001b[38;5;241;43m*\u001b[39;49m\u001b[43margs\u001b[49m\u001b[43m,\u001b[49m\u001b[43m \u001b[49m\u001b[38;5;241;43m*\u001b[39;49m\u001b[38;5;241;43m*\u001b[39;49m\u001b[43mkwargs\u001b[49m\u001b[43m)\u001b[49m)\n\u001b[0;32m    381\u001b[0m \u001b[38;5;66;03m# build a buffer for storing evaluations of func1d.\u001b[39;00m\n\u001b[0;32m    382\u001b[0m \u001b[38;5;66;03m# remove the requested axis, and add the new ones on the end.\u001b[39;00m\n\u001b[0;32m    383\u001b[0m \u001b[38;5;66;03m# laid out so that each write is contiguous.\u001b[39;00m\n\u001b[0;32m    384\u001b[0m \u001b[38;5;66;03m# for a tuple index inds, buff[inds] = func1d(inarr_view[inds])\u001b[39;00m\n\u001b[0;32m    385\u001b[0m buff \u001b[38;5;241m=\u001b[39m zeros(inarr_view\u001b[38;5;241m.\u001b[39mshape[:\u001b[38;5;241m-\u001b[39m\u001b[38;5;241m1\u001b[39m] \u001b[38;5;241m+\u001b[39m res\u001b[38;5;241m.\u001b[39mshape, res\u001b[38;5;241m.\u001b[39mdtype)\n",
            "File \u001b[1;32m~\\AppData\\Roaming\\Python\\Python312\\site-packages\\scipy\\stats\\_axis_nan_policy.py:600\u001b[0m, in \u001b[0;36m_axis_nan_policy_factory.<locals>.axis_nan_policy_decorator.<locals>.axis_nan_policy_wrapper.<locals>.hypotest_fun\u001b[1;34m(x)\u001b[0m\n\u001b[0;32m    598\u001b[0m \u001b[38;5;28;01mif\u001b[39;00m is_too_small(samples, kwds):\n\u001b[0;32m    599\u001b[0m     \u001b[38;5;28;01mreturn\u001b[39;00m np\u001b[38;5;241m.\u001b[39mfull(n_out, NaN)\n\u001b[1;32m--> 600\u001b[0m \u001b[38;5;28;01mreturn\u001b[39;00m result_to_tuple(\u001b[43mhypotest_fun_out\u001b[49m\u001b[43m(\u001b[49m\u001b[38;5;241;43m*\u001b[39;49m\u001b[43msamples\u001b[49m\u001b[43m,\u001b[49m\u001b[43m \u001b[49m\u001b[38;5;241;43m*\u001b[39;49m\u001b[38;5;241;43m*\u001b[39;49m\u001b[43mkwds\u001b[49m\u001b[43m)\u001b[49m)\n",
            "File \u001b[1;32m~\\AppData\\Roaming\\Python\\Python312\\site-packages\\scipy\\stats\\_stats_py.py:524\u001b[0m, in \u001b[0;36mmode\u001b[1;34m(a, axis, nan_policy, keepdims)\u001b[0m\n\u001b[0;32m    521\u001b[0m     NaN \u001b[38;5;241m=\u001b[39m _get_nan(a)\n\u001b[0;32m    522\u001b[0m     \u001b[38;5;28;01mreturn\u001b[39;00m ModeResult(\u001b[38;5;241m*\u001b[39mnp\u001b[38;5;241m.\u001b[39marray([NaN, \u001b[38;5;241m0\u001b[39m], dtype\u001b[38;5;241m=\u001b[39mNaN\u001b[38;5;241m.\u001b[39mdtype))\n\u001b[1;32m--> 524\u001b[0m vals, cnts \u001b[38;5;241m=\u001b[39m \u001b[43mnp\u001b[49m\u001b[38;5;241;43m.\u001b[39;49m\u001b[43munique\u001b[49m\u001b[43m(\u001b[49m\u001b[43ma\u001b[49m\u001b[43m,\u001b[49m\u001b[43m \u001b[49m\u001b[43mreturn_counts\u001b[49m\u001b[38;5;241;43m=\u001b[39;49m\u001b[38;5;28;43;01mTrue\u001b[39;49;00m\u001b[43m)\u001b[49m\n\u001b[0;32m    525\u001b[0m modes, counts \u001b[38;5;241m=\u001b[39m vals[cnts\u001b[38;5;241m.\u001b[39margmax()], cnts\u001b[38;5;241m.\u001b[39mmax()\n\u001b[0;32m    526\u001b[0m \u001b[38;5;28;01mreturn\u001b[39;00m ModeResult(modes[()], counts[()])\n",
            "File \u001b[1;32m~\\AppData\\Roaming\\Python\\Python312\\site-packages\\numpy\\lib\\arraysetops.py:274\u001b[0m, in \u001b[0;36munique\u001b[1;34m(ar, return_index, return_inverse, return_counts, axis, equal_nan)\u001b[0m\n\u001b[0;32m    272\u001b[0m ar \u001b[38;5;241m=\u001b[39m np\u001b[38;5;241m.\u001b[39masanyarray(ar)\n\u001b[0;32m    273\u001b[0m \u001b[38;5;28;01mif\u001b[39;00m axis \u001b[38;5;129;01mis\u001b[39;00m \u001b[38;5;28;01mNone\u001b[39;00m:\n\u001b[1;32m--> 274\u001b[0m     ret \u001b[38;5;241m=\u001b[39m \u001b[43m_unique1d\u001b[49m\u001b[43m(\u001b[49m\u001b[43mar\u001b[49m\u001b[43m,\u001b[49m\u001b[43m \u001b[49m\u001b[43mreturn_index\u001b[49m\u001b[43m,\u001b[49m\u001b[43m \u001b[49m\u001b[43mreturn_inverse\u001b[49m\u001b[43m,\u001b[49m\u001b[43m \u001b[49m\u001b[43mreturn_counts\u001b[49m\u001b[43m,\u001b[49m\u001b[43m \u001b[49m\n\u001b[0;32m    275\u001b[0m \u001b[43m                    \u001b[49m\u001b[43mequal_nan\u001b[49m\u001b[38;5;241;43m=\u001b[39;49m\u001b[43mequal_nan\u001b[49m\u001b[43m)\u001b[49m\n\u001b[0;32m    276\u001b[0m     \u001b[38;5;28;01mreturn\u001b[39;00m _unpack_tuple(ret)\n\u001b[0;32m    278\u001b[0m \u001b[38;5;66;03m# axis was specified and not None\u001b[39;00m\n",
            "File \u001b[1;32m~\\AppData\\Roaming\\Python\\Python312\\site-packages\\numpy\\lib\\arraysetops.py:363\u001b[0m, in \u001b[0;36m_unique1d\u001b[1;34m(ar, return_index, return_inverse, return_counts, equal_nan)\u001b[0m\n\u001b[0;32m    361\u001b[0m     ret \u001b[38;5;241m+\u001b[39m\u001b[38;5;241m=\u001b[39m (inv_idx,)\n\u001b[0;32m    362\u001b[0m \u001b[38;5;28;01mif\u001b[39;00m return_counts:\n\u001b[1;32m--> 363\u001b[0m     idx \u001b[38;5;241m=\u001b[39m np\u001b[38;5;241m.\u001b[39mconcatenate(\u001b[43mnp\u001b[49m\u001b[38;5;241;43m.\u001b[39;49m\u001b[43mnonzero\u001b[49m\u001b[43m(\u001b[49m\u001b[43mmask\u001b[49m\u001b[43m)\u001b[49m \u001b[38;5;241m+\u001b[39m ([mask\u001b[38;5;241m.\u001b[39msize],))\n\u001b[0;32m    364\u001b[0m     ret \u001b[38;5;241m+\u001b[39m\u001b[38;5;241m=\u001b[39m (np\u001b[38;5;241m.\u001b[39mdiff(idx),)\n\u001b[0;32m    365\u001b[0m \u001b[38;5;28;01mreturn\u001b[39;00m ret\n",
            "File \u001b[1;32m~\\AppData\\Roaming\\Python\\Python312\\site-packages\\numpy\\core\\fromnumeric.py:1877\u001b[0m, in \u001b[0;36m_nonzero_dispatcher\u001b[1;34m(a)\u001b[0m\n\u001b[0;32m   1873\u001b[0m     \u001b[38;5;28;01melse\u001b[39;00m:\n\u001b[0;32m   1874\u001b[0m         \u001b[38;5;28;01mreturn\u001b[39;00m asanyarray(a)\u001b[38;5;241m.\u001b[39mravel(order\u001b[38;5;241m=\u001b[39morder)\n\u001b[1;32m-> 1877\u001b[0m \u001b[38;5;28;01mdef\u001b[39;00m \u001b[38;5;21m_nonzero_dispatcher\u001b[39m(a):\n\u001b[0;32m   1878\u001b[0m     \u001b[38;5;28;01mreturn\u001b[39;00m (a,)\n\u001b[0;32m   1881\u001b[0m \u001b[38;5;129m@array_function_dispatch\u001b[39m(_nonzero_dispatcher)\n\u001b[0;32m   1882\u001b[0m \u001b[38;5;28;01mdef\u001b[39;00m \u001b[38;5;21mnonzero\u001b[39m(a):\n",
            "\u001b[1;31mKeyboardInterrupt\u001b[0m: "
          ]
        }
      ],
      "source": [
        "from sklearn.model_selection import StratifiedKFold\n",
        "\n",
        "NUM_SPLITS = 5\n",
        "\n",
        "skf = StratifiedKFold(n_splits = NUM_SPLITS, shuffle=False)\n",
        "lst_accu_stratified = []\n",
        "  \n",
        "for train_index, test_index in skf.split(x_columns, y_columns):\n",
        "    x_train_fold, x_test_fold = x_columns.iloc[train_index], x_columns.iloc[test_index]\n",
        "    y_train_fold, y_test_fold = y_columns.iloc[train_index], y_columns.iloc[test_index]\n",
        "    \n",
        "    tx, ty = sequence_generator(x_train_fold, y_train_fold, WINDOW_LENGTH, STRIDE_LENGTH)\n",
        "    vx, vy = sequence_generator(x_test_fold, y_test_fold, WINDOW_LENGTH, STRIDE_LENGTH)\n",
        "\n",
        "    tty = to_categorical(ty, num_classes = NUM_CLASSES)\n",
        "    vvy = to_categorical(vy, num_classes = NUM_CLASSES)\n",
        "\n",
        "    model.fit(tx, tty, epochs=EPOCHS_SIZE, batch_size=BATCH_SIZE)\n",
        "    \n",
        "    test_loss, test_accuracy = model.evaluate(vx, vvy)\n",
        "    lst_accu_stratified.append(test_accuracy)"
      ]
    },
    {
      "cell_type": "code",
      "execution_count": 60,
      "metadata": {},
      "outputs": [],
      "source": [
        "# Saving Model as h5\n",
        "model.save('../fitmotion_model_reduced.keras')"
      ]
    }
  ],
  "metadata": {
    "colab": {
      "include_colab_link": true,
      "provenance": []
    },
    "kernelspec": {
      "display_name": "Python 3",
      "name": "python3"
    },
    "language_info": {
      "codemirror_mode": {
        "name": "ipython",
        "version": 3
      },
      "file_extension": ".py",
      "mimetype": "text/x-python",
      "name": "python",
      "nbconvert_exporter": "python",
      "pygments_lexer": "ipython3",
      "version": "3.12.3"
    }
  },
  "nbformat": 4,
  "nbformat_minor": 0
}
