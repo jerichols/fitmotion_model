{
 "cells": [
  {
   "cell_type": "code",
   "execution_count": 2,
   "metadata": {},
   "outputs": [],
   "source": [
    "import pandas as pd\n",
    "import os"
   ]
  },
  {
   "cell_type": "code",
   "execution_count": 4,
   "metadata": {},
   "outputs": [],
   "source": [
    "dirpath = '../data/android_data'\n",
    "subdir = os.listdir(dirpath)\n",
    "writepath = '../data/android_data_cleaned'\n",
    "\n",
    "for sub in subdir:\n",
    "    for file in os.listdir(dirpath + '/' + sub):\n",
    "        if file.endswith('.csv'):\n",
    "            df = pd.read_csv(dirpath + '/' + sub + '/' + file, sep=';')\n",
    "            # if Acceleration Z is not the last column, move it to the last column\n",
    "            if df.columns[-1] != 'User Acceleration Z':\n",
    "                df = df[[c for c in df if c not in ['User Acceleration Z']] + ['User Acceleration Z']]\n",
    "\n",
    "            # remove rows with values of 0\n",
    "            df = df[(df.T != 0).all()]\n",
    "\n",
    "            # restart id from 1\n",
    "            df['id'] = range(1, len(df) + 1)\n",
    "\n",
    "            df.to_csv(writepath + '/' + sub + '/' + file, sep=',', index=False)"
   ]
  }
 ],
 "metadata": {
  "kernelspec": {
   "display_name": "tf_testing",
   "language": "python",
   "name": "python3"
  },
  "language_info": {
   "codemirror_mode": {
    "name": "ipython",
    "version": 3
   },
   "file_extension": ".py",
   "mimetype": "text/x-python",
   "name": "python",
   "nbconvert_exporter": "python",
   "pygments_lexer": "ipython3",
   "version": "3.10.14"
  }
 },
 "nbformat": 4,
 "nbformat_minor": 2
}
