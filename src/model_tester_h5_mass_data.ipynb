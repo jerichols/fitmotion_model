{
 "cells": [
  {
   "cell_type": "code",
   "execution_count": 37,
   "metadata": {},
   "outputs": [],
   "source": [
    "import tensorflow as tf\n",
    "import numpy as np\n",
    "import pandas as pd\n",
    "from tensorflow import keras\n",
    "import os\n",
    "from scipy.stats import mode"
   ]
  },
  {
   "cell_type": "code",
   "execution_count": 38,
   "metadata": {},
   "outputs": [
    {
     "name": "stderr",
     "output_type": "stream",
     "text": [
      "c:\\ProgramData\\miniconda3\\envs\\tf_testing\\lib\\site-packages\\keras\\src\\saving\\saving_lib.py:415: UserWarning: Skipping variable loading for optimizer 'rmsprop', because it has 9 variables whereas the saved optimizer has 16 variables. \n",
      "  saveable.load_own_variables(weights_store.get(inner_path))\n"
     ]
    }
   ],
   "source": [
    "# Load the model\n",
    "model = keras.models.load_model('../fitmotion_model.keras')\n",
    "labels = ['dws', 'jog', 'sit', 'std', 'ups', 'wlk']"
   ]
  },
  {
   "cell_type": "code",
   "execution_count": 39,
   "metadata": {},
   "outputs": [
    {
     "data": {
      "text/plain": [
       "{'Attitude Roll': 0.1142376591444776,\n",
       " 'Attitude Pitch': 6.743238035682087,\n",
       " 'Attitude Azimuth': -0.41661325633781365,\n",
       " 'Gravity X': -0.40567461707781854,\n",
       " 'Gravity Y': -0.09295193616982254,\n",
       " 'Gravity Z': -0.10113856668202935,\n",
       " 'Rotation Rate X': -1.4943574681964766,\n",
       " 'Rotation Rate Y': -1.2789613806297648,\n",
       " 'Rotation Rate Z': -1.6287858288885937,\n",
       " 'User Acceleration X': -0.0263404192567685,\n",
       " 'User Acceleration Y': 0.11506888215007838,\n",
       " 'User Acceleration Z': 0.14220148004175853}"
      ]
     },
     "execution_count": 39,
     "metadata": {},
     "output_type": "execute_result"
    }
   ],
   "source": [
    "# opening scaling factor file to read the dictionary\n",
    "with open('../constants.txt', 'r') as f:\n",
    "    lines = f.readlines()\n",
    "    scaling_factors = eval(lines[0])\n",
    "\n",
    "scaling_factors"
   ]
  },
  {
   "cell_type": "code",
   "execution_count": 40,
   "metadata": {},
   "outputs": [],
   "source": [
    "# Sequnce Generator\n",
    "WINDOW_LENGTH = 150\n",
    "STRIDE_LENGTH = 10\n",
    "NUM_CLASSES = 6\n",
    "NUM_FEATURES = 12\n",
    "BATCH_SIZE = 100\n",
    "EPOCHS_SIZE = 10\n",
    "\n",
    "def sequence_generator(x, length, stride):\n",
    "    seq_x = []\n",
    "    data_length = len(x)\n",
    "\n",
    "    for i in range(0, data_length - length + 1, stride):\n",
    "        input_sequence = x.iloc[i : i + length]\n",
    "        seq_x.append(input_sequence)\n",
    "    return np.array(seq_x)"
   ]
  },
  {
   "cell_type": "code",
   "execution_count": 41,
   "metadata": {},
   "outputs": [
    {
     "name": "stdout",
     "output_type": "stream",
     "text": [
      "../data/android_data_cleaned/sit/sit_1.csv\n",
      "\u001b[1m4/4\u001b[0m \u001b[32m━━━━━━━━━━━━━━━━━━━━\u001b[0m\u001b[37m\u001b[0m \u001b[1m0s\u001b[0m 29ms/step\n",
      "../data/android_data_cleaned/sit/sit_2.csv\n",
      "\u001b[1m5/5\u001b[0m \u001b[32m━━━━━━━━━━━━━━━━━━━━\u001b[0m\u001b[37m\u001b[0m \u001b[1m0s\u001b[0m 5ms/step \n",
      "../data/android_data_cleaned/sit/sit_3.csv\n",
      "\u001b[1m4/4\u001b[0m \u001b[32m━━━━━━━━━━━━━━━━━━━━\u001b[0m\u001b[37m\u001b[0m \u001b[1m0s\u001b[0m 5ms/step \n",
      "../data/android_data_cleaned/sit/sit_4.csv\n",
      "\u001b[1m6/6\u001b[0m \u001b[32m━━━━━━━━━━━━━━━━━━━━\u001b[0m\u001b[37m\u001b[0m \u001b[1m0s\u001b[0m 5ms/step \n",
      "../data/android_data_cleaned/sit/sit_5.csv\n",
      "\u001b[1m5/5\u001b[0m \u001b[32m━━━━━━━━━━━━━━━━━━━━\u001b[0m\u001b[37m\u001b[0m \u001b[1m0s\u001b[0m 6ms/step \n",
      "../data/android_data_cleaned/sit/sit_6.csv\n",
      "\u001b[1m5/5\u001b[0m \u001b[32m━━━━━━━━━━━━━━━━━━━━\u001b[0m\u001b[37m\u001b[0m \u001b[1m0s\u001b[0m 6ms/step \n",
      "../data/android_data_cleaned/std/std_1.csv\n",
      "\u001b[1m5/5\u001b[0m \u001b[32m━━━━━━━━━━━━━━━━━━━━\u001b[0m\u001b[37m\u001b[0m \u001b[1m0s\u001b[0m 5ms/step \n",
      "../data/android_data_cleaned/std/std_2.csv\n",
      "\u001b[1m4/4\u001b[0m \u001b[32m━━━━━━━━━━━━━━━━━━━━\u001b[0m\u001b[37m\u001b[0m \u001b[1m0s\u001b[0m 5ms/step \n",
      "../data/android_data_cleaned/std/std_3.csv\n",
      "\u001b[1m4/4\u001b[0m \u001b[32m━━━━━━━━━━━━━━━━━━━━\u001b[0m\u001b[37m\u001b[0m \u001b[1m0s\u001b[0m 5ms/step \n",
      "../data/android_data_cleaned/ups/ups_1.csv\n",
      "\u001b[1m2/2\u001b[0m \u001b[32m━━━━━━━━━━━━━━━━━━━━\u001b[0m\u001b[37m\u001b[0m \u001b[1m0s\u001b[0m 6ms/step \n",
      "../data/android_data_cleaned/wlk/wlk_1.csv\n",
      "\u001b[1m4/4\u001b[0m \u001b[32m━━━━━━━━━━━━━━━━━━━━\u001b[0m\u001b[37m\u001b[0m \u001b[1m0s\u001b[0m 5ms/step \n",
      "../data/android_data_cleaned/wlk/wlk_2.csv\n",
      "\u001b[1m5/5\u001b[0m \u001b[32m━━━━━━━━━━━━━━━━━━━━\u001b[0m\u001b[37m\u001b[0m \u001b[1m0s\u001b[0m 5ms/step \n",
      "../data/android_data_cleaned/wlk/wlk_3.csv\n",
      "\u001b[1m4/4\u001b[0m \u001b[32m━━━━━━━━━━━━━━━━━━━━\u001b[0m\u001b[37m\u001b[0m \u001b[1m0s\u001b[0m 5ms/step \n",
      "../data/android_data_cleaned/wlk/wlk_4.csv\n",
      "\u001b[1m6/6\u001b[0m \u001b[32m━━━━━━━━━━━━━━━━━━━━\u001b[0m\u001b[37m\u001b[0m \u001b[1m0s\u001b[0m 5ms/step \n"
     ]
    }
   ],
   "source": [
    "# load multiple data\n",
    "data_path = '../data/android_data_cleaned/'\n",
    "\n",
    "accuracy = {}\n",
    "\n",
    "for dir in os.listdir(data_path):\n",
    "    # create key according to each directory name\n",
    "    accuracy[dir] = 0\n",
    "\n",
    "    # predicting the data\n",
    "    for file in os.listdir(data_path + dir):\n",
    "        if file.endswith('.csv'):\n",
    "            df = pd.read_csv(data_path + dir + '/' + file)\n",
    "            df = df.drop(['Unnamed: 0'], axis=1) if 'Unnamed: 0' in df.columns else df\n",
    "            df = df.drop(['id'], axis=1) if 'id' in df.columns else df\n",
    "\n",
    "            print(data_path + dir + '/' + file)\n",
    "            \n",
    "            # Multiply data with constants\n",
    "            for i in range(len(df.columns)):\n",
    "                df.iloc[:, i] = df.iloc[:, i] * scaling_factors[df.columns[i]]\n",
    "            \n",
    "            # create sequences\n",
    "            tx = sequence_generator(df, WINDOW_LENGTH, STRIDE_LENGTH) \n",
    "\n",
    "            # predict the sequences\n",
    "            y_pred = model.predict(tx)\n",
    "            y_pred = np.argmax(y_pred, axis=1)\n",
    "            y_pred = mode(y_pred)[0]\n",
    "            pred_label = labels[y_pred]\n",
    "\n",
    "            # add 1 to accuracy if prediction match the directory name\n",
    "            if pred_label == dir:\n",
    "                accuracy[dir] += 1\n",
    "\n",
    "            # clear df to free up memory\n",
    "            del df\n",
    "\n",
    "# calculate acc by dividing the number of correct predictions by total number of files\n",
    "for dir in os.listdir(data_path):\n",
    "    accuracy[dir] = accuracy[dir] / len(os.listdir(data_path + dir))"
   ]
  },
  {
   "cell_type": "code",
   "execution_count": 48,
   "metadata": {},
   "outputs": [
    {
     "name": "stdout",
     "output_type": "stream",
     "text": [
      "acc: {'sit': 0.8333333333333334, 'std': 0.6666666666666666, 'ups': 0.0, 'wlk': 0.25}\n",
      "file len of sit: 6\n",
      "file len of std: 3\n",
      "file len of ups: 1\n",
      "file len of wlk: 4\n"
     ]
    }
   ],
   "source": [
    "print('acc:', accuracy)\n",
    "for dir in os.listdir(data_path):\n",
    "    print('file len of', dir + ':', len(os.listdir(data_path + dir)))"
   ]
  }
 ],
 "metadata": {
  "kernelspec": {
   "display_name": "tf_testing",
   "language": "python",
   "name": "python3"
  },
  "language_info": {
   "codemirror_mode": {
    "name": "ipython",
    "version": 3
   },
   "file_extension": ".py",
   "mimetype": "text/x-python",
   "name": "python",
   "nbconvert_exporter": "python",
   "pygments_lexer": "ipython3",
   "version": "3.10.14"
  }
 },
 "nbformat": 4,
 "nbformat_minor": 2
}
