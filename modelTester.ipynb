{
 "cells": [
  {
   "cell_type": "code",
   "execution_count": 1,
   "metadata": {},
   "outputs": [],
   "source": [
    "import os\n",
    "import tensorflow as tf\n",
    "import numpy as np\n",
    "import pandas as pd\n",
    "from tensorflow import keras"
   ]
  },
  {
   "cell_type": "markdown",
   "metadata": {},
   "source": [
    "# Load Model    "
   ]
  },
  {
   "cell_type": "code",
   "execution_count": 12,
   "metadata": {},
   "outputs": [
    {
     "name": "stderr",
     "output_type": "stream",
     "text": [
      "c:\\ProgramData\\miniconda3\\envs\\tf_testing\\lib\\site-packages\\keras\\src\\saving\\saving_lib.py:415: UserWarning: Skipping variable loading for optimizer 'rmsprop', because it has 9 variables whereas the saved optimizer has 16 variables. \n",
      "  saveable.load_own_variables(weights_store.get(inner_path))\n"
     ]
    }
   ],
   "source": [
    "# Load the model\n",
    "model = keras.models.load_model('fitmotion_model.keras')"
   ]
  },
  {
   "cell_type": "markdown",
   "metadata": {},
   "source": [
    "# Loading The Data"
   ]
  },
  {
   "cell_type": "code",
   "execution_count": 16,
   "metadata": {},
   "outputs": [],
   "source": [
    "labels = ['dws', 'jog', 'sit', 'std', 'ups', 'wlk']"
   ]
  },
  {
   "cell_type": "code",
   "execution_count": 43,
   "metadata": {},
   "outputs": [
    {
     "data": {
      "text/html": [
       "<div>\n",
       "<style scoped>\n",
       "    .dataframe tbody tr th:only-of-type {\n",
       "        vertical-align: middle;\n",
       "    }\n",
       "\n",
       "    .dataframe tbody tr th {\n",
       "        vertical-align: top;\n",
       "    }\n",
       "\n",
       "    .dataframe thead th {\n",
       "        text-align: right;\n",
       "    }\n",
       "</style>\n",
       "<table border=\"1\" class=\"dataframe\">\n",
       "  <thead>\n",
       "    <tr style=\"text-align: right;\">\n",
       "      <th></th>\n",
       "      <th>attitude.roll</th>\n",
       "      <th>attitude.pitch</th>\n",
       "      <th>attitude.yaw</th>\n",
       "      <th>gravity.x</th>\n",
       "      <th>gravity.y</th>\n",
       "      <th>gravity.z</th>\n",
       "      <th>rotationRate.x</th>\n",
       "      <th>rotationRate.y</th>\n",
       "      <th>rotationRate.z</th>\n",
       "      <th>userAcceleration.x</th>\n",
       "      <th>userAcceleration.y</th>\n",
       "      <th>userAcceleration.z</th>\n",
       "    </tr>\n",
       "  </thead>\n",
       "  <tbody>\n",
       "    <tr>\n",
       "      <th>0</th>\n",
       "      <td>-1.039139</td>\n",
       "      <td>-1.232536</td>\n",
       "      <td>2.621413</td>\n",
       "      <td>-0.286038</td>\n",
       "      <td>0.943333</td>\n",
       "      <td>-0.168232</td>\n",
       "      <td>0.278429</td>\n",
       "      <td>-0.591813</td>\n",
       "      <td>-0.526030</td>\n",
       "      <td>-0.354724</td>\n",
       "      <td>0.206706</td>\n",
       "      <td>-0.257809</td>\n",
       "    </tr>\n",
       "    <tr>\n",
       "      <th>1</th>\n",
       "      <td>-1.059290</td>\n",
       "      <td>-1.218545</td>\n",
       "      <td>2.614468</td>\n",
       "      <td>-0.300850</td>\n",
       "      <td>0.938598</td>\n",
       "      <td>-0.168879</td>\n",
       "      <td>0.218929</td>\n",
       "      <td>-0.720830</td>\n",
       "      <td>-0.711083</td>\n",
       "      <td>0.060844</td>\n",
       "      <td>-0.038574</td>\n",
       "      <td>-0.243627</td>\n",
       "    </tr>\n",
       "    <tr>\n",
       "      <th>2</th>\n",
       "      <td>-1.078749</td>\n",
       "      <td>-1.204224</td>\n",
       "      <td>2.608918</td>\n",
       "      <td>-0.315894</td>\n",
       "      <td>0.933562</td>\n",
       "      <td>-0.169326</td>\n",
       "      <td>0.316419</td>\n",
       "      <td>-0.745103</td>\n",
       "      <td>-0.586457</td>\n",
       "      <td>0.261253</td>\n",
       "      <td>-0.087691</td>\n",
       "      <td>-0.311021</td>\n",
       "    </tr>\n",
       "    <tr>\n",
       "      <th>3</th>\n",
       "      <td>-1.087246</td>\n",
       "      <td>-1.191351</td>\n",
       "      <td>2.620142</td>\n",
       "      <td>-0.327936</td>\n",
       "      <td>0.928870</td>\n",
       "      <td>-0.172209</td>\n",
       "      <td>0.587287</td>\n",
       "      <td>-1.061052</td>\n",
       "      <td>-0.398290</td>\n",
       "      <td>0.293848</td>\n",
       "      <td>-0.024375</td>\n",
       "      <td>-0.241304</td>\n",
       "    </tr>\n",
       "    <tr>\n",
       "      <th>4</th>\n",
       "      <td>-1.085504</td>\n",
       "      <td>-1.181493</td>\n",
       "      <td>2.645917</td>\n",
       "      <td>-0.335719</td>\n",
       "      <td>0.925174</td>\n",
       "      <td>-0.177043</td>\n",
       "      <td>0.643359</td>\n",
       "      <td>-1.096573</td>\n",
       "      <td>-0.089136</td>\n",
       "      <td>0.302821</td>\n",
       "      <td>0.111783</td>\n",
       "      <td>0.009486</td>\n",
       "    </tr>\n",
       "    <tr>\n",
       "      <th>...</th>\n",
       "      <td>...</td>\n",
       "      <td>...</td>\n",
       "      <td>...</td>\n",
       "      <td>...</td>\n",
       "      <td>...</td>\n",
       "      <td>...</td>\n",
       "      <td>...</td>\n",
       "      <td>...</td>\n",
       "      <td>...</td>\n",
       "      <td>...</td>\n",
       "      <td>...</td>\n",
       "      <td>...</td>\n",
       "    </tr>\n",
       "    <tr>\n",
       "      <th>5209</th>\n",
       "      <td>1.463028</td>\n",
       "      <td>-1.424794</td>\n",
       "      <td>-1.799679</td>\n",
       "      <td>0.144620</td>\n",
       "      <td>0.989361</td>\n",
       "      <td>-0.015646</td>\n",
       "      <td>0.228084</td>\n",
       "      <td>0.473213</td>\n",
       "      <td>-0.370839</td>\n",
       "      <td>0.023562</td>\n",
       "      <td>-1.097362</td>\n",
       "      <td>0.097433</td>\n",
       "    </tr>\n",
       "    <tr>\n",
       "      <th>5210</th>\n",
       "      <td>1.408117</td>\n",
       "      <td>-1.445567</td>\n",
       "      <td>-1.864284</td>\n",
       "      <td>0.123232</td>\n",
       "      <td>0.992169</td>\n",
       "      <td>-0.020226</td>\n",
       "      <td>0.323005</td>\n",
       "      <td>0.316451</td>\n",
       "      <td>-1.475585</td>\n",
       "      <td>0.004987</td>\n",
       "      <td>-1.385296</td>\n",
       "      <td>0.018044</td>\n",
       "    </tr>\n",
       "    <tr>\n",
       "      <th>5211</th>\n",
       "      <td>1.307513</td>\n",
       "      <td>-1.477932</td>\n",
       "      <td>-1.963835</td>\n",
       "      <td>0.089508</td>\n",
       "      <td>0.995691</td>\n",
       "      <td>-0.024126</td>\n",
       "      <td>0.064979</td>\n",
       "      <td>-0.323138</td>\n",
       "      <td>-1.678462</td>\n",
       "      <td>0.078644</td>\n",
       "      <td>-1.403055</td>\n",
       "      <td>0.037157</td>\n",
       "    </tr>\n",
       "    <tr>\n",
       "      <th>5212</th>\n",
       "      <td>1.266435</td>\n",
       "      <td>-1.505663</td>\n",
       "      <td>-1.996168</td>\n",
       "      <td>0.062056</td>\n",
       "      <td>0.997880</td>\n",
       "      <td>-0.019493</td>\n",
       "      <td>-0.437582</td>\n",
       "      <td>-0.532256</td>\n",
       "      <td>-1.162548</td>\n",
       "      <td>0.031312</td>\n",
       "      <td>-1.098954</td>\n",
       "      <td>0.007866</td>\n",
       "    </tr>\n",
       "    <tr>\n",
       "      <th>5213</th>\n",
       "      <td>1.326872</td>\n",
       "      <td>-1.527761</td>\n",
       "      <td>-1.920447</td>\n",
       "      <td>0.041684</td>\n",
       "      <td>0.999074</td>\n",
       "      <td>-0.010374</td>\n",
       "      <td>-0.471419</td>\n",
       "      <td>-0.650482</td>\n",
       "      <td>-0.872077</td>\n",
       "      <td>0.150134</td>\n",
       "      <td>-0.963460</td>\n",
       "      <td>-0.240526</td>\n",
       "    </tr>\n",
       "  </tbody>\n",
       "</table>\n",
       "<p>5214 rows × 12 columns</p>\n",
       "</div>"
      ],
      "text/plain": [
       "      attitude.roll  attitude.pitch  attitude.yaw  gravity.x  gravity.y  \\\n",
       "0         -1.039139       -1.232536      2.621413  -0.286038   0.943333   \n",
       "1         -1.059290       -1.218545      2.614468  -0.300850   0.938598   \n",
       "2         -1.078749       -1.204224      2.608918  -0.315894   0.933562   \n",
       "3         -1.087246       -1.191351      2.620142  -0.327936   0.928870   \n",
       "4         -1.085504       -1.181493      2.645917  -0.335719   0.925174   \n",
       "...             ...             ...           ...        ...        ...   \n",
       "5209       1.463028       -1.424794     -1.799679   0.144620   0.989361   \n",
       "5210       1.408117       -1.445567     -1.864284   0.123232   0.992169   \n",
       "5211       1.307513       -1.477932     -1.963835   0.089508   0.995691   \n",
       "5212       1.266435       -1.505663     -1.996168   0.062056   0.997880   \n",
       "5213       1.326872       -1.527761     -1.920447   0.041684   0.999074   \n",
       "\n",
       "      gravity.z  rotationRate.x  rotationRate.y  rotationRate.z  \\\n",
       "0     -0.168232        0.278429       -0.591813       -0.526030   \n",
       "1     -0.168879        0.218929       -0.720830       -0.711083   \n",
       "2     -0.169326        0.316419       -0.745103       -0.586457   \n",
       "3     -0.172209        0.587287       -1.061052       -0.398290   \n",
       "4     -0.177043        0.643359       -1.096573       -0.089136   \n",
       "...         ...             ...             ...             ...   \n",
       "5209  -0.015646        0.228084        0.473213       -0.370839   \n",
       "5210  -0.020226        0.323005        0.316451       -1.475585   \n",
       "5211  -0.024126        0.064979       -0.323138       -1.678462   \n",
       "5212  -0.019493       -0.437582       -0.532256       -1.162548   \n",
       "5213  -0.010374       -0.471419       -0.650482       -0.872077   \n",
       "\n",
       "      userAcceleration.x  userAcceleration.y  userAcceleration.z  \n",
       "0              -0.354724            0.206706           -0.257809  \n",
       "1               0.060844           -0.038574           -0.243627  \n",
       "2               0.261253           -0.087691           -0.311021  \n",
       "3               0.293848           -0.024375           -0.241304  \n",
       "4               0.302821            0.111783            0.009486  \n",
       "...                  ...                 ...                 ...  \n",
       "5209            0.023562           -1.097362            0.097433  \n",
       "5210            0.004987           -1.385296            0.018044  \n",
       "5211            0.078644           -1.403055            0.037157  \n",
       "5212            0.031312           -1.098954            0.007866  \n",
       "5213            0.150134           -0.963460           -0.240526  \n",
       "\n",
       "[5214 rows x 12 columns]"
      ]
     },
     "execution_count": 43,
     "metadata": {},
     "output_type": "execute_result"
    }
   ],
   "source": [
    "# Load testing data\n",
    "data_url = '/jog_9/sub_19.csv'\n",
    "df = pd.read_csv('dataset' + data_url)\n",
    "df.drop('Unnamed: 0', axis=1, inplace=True)\n",
    "df"
   ]
  },
  {
   "cell_type": "markdown",
   "metadata": {},
   "source": [
    "# Preprocessing Data"
   ]
  },
  {
   "cell_type": "code",
   "execution_count": 44,
   "metadata": {},
   "outputs": [],
   "source": [
    "# Prepare the data\n",
    "WINDOW_LENGTH = 150\n",
    "STRIDE_LENGTH = 10\n",
    "NUM_CLASSES = 6\n",
    "NUM_FEATURES = 12\n",
    "BATCH_SIZE = 100\n",
    "EPOCHS_SIZE = 10"
   ]
  },
  {
   "cell_type": "code",
   "execution_count": 45,
   "metadata": {},
   "outputs": [],
   "source": [
    "from scipy.stats import mode\n",
    "\n",
    "def sequence_generator(x, length, stride):\n",
    "    seq_x = []\n",
    "    data_length = len(x)\n",
    "\n",
    "    for i in range(0, data_length - length + 1, stride):\n",
    "        input_sequence = x.iloc[i : i + length]\n",
    "        seq_x.append(input_sequence)\n",
    "    return np.array(seq_x)"
   ]
  },
  {
   "cell_type": "code",
   "execution_count": 46,
   "metadata": {},
   "outputs": [
    {
     "data": {
      "image/png": "[encoded data removed]",
      "text/plain": [
       "<Figure size 640x480 with 1 Axes>"
      ]
     },
     "metadata": {},
     "output_type": "display_data"
    }
   ],
   "source": [
    "# Checking data\n",
    "import matplotlib.pyplot as plt\n",
    "\n",
    "tx = sequence_generator(df, WINDOW_LENGTH, STRIDE_LENGTH)\n",
    "plt.plot(tx[0][0:150, 0])\n",
    "plt.show()"
   ]
  },
  {
   "cell_type": "markdown",
   "metadata": {},
   "source": [
    "# Prediction"
   ]
  },
  {
   "cell_type": "code",
   "execution_count": 47,
   "metadata": {},
   "outputs": [
    {
     "name": "stdout",
     "output_type": "stream",
     "text": [
      "\u001b[1m16/16\u001b[0m \u001b[32m━━━━━━━━━━━━━━━━━━━━\u001b[0m\u001b[37m\u001b[0m \u001b[1m0s\u001b[0m 5ms/step\n"
     ]
    },
    {
     "data": {
      "text/plain": [
       "'jog'"
      ]
     },
     "execution_count": 47,
     "metadata": {},
     "output_type": "execute_result"
    }
   ],
   "source": [
    "# Predict the data\n",
    "y_pred = model.predict(tx)\n",
    "\n",
    "# Get the most frequent label\n",
    "y_pred = np.argmax(y_pred, axis=1)\n",
    "y_pred = mode(y_pred)[0]\n",
    "labels[y_pred]"
   ]
  }
 ],
 "metadata": {
  "kernelspec": {
   "display_name": "base",
   "language": "python",
   "name": "python3"
  },
  "language_info": {
   "codemirror_mode": {
    "name": "ipython",
    "version": 3
   },
   "file_extension": ".py",
   "mimetype": "text/x-python",
   "name": "python",
   "nbconvert_exporter": "python",
   "pygments_lexer": "ipython3",
   "version": "3.10.14"
  }
 },
 "nbformat": 4,
 "nbformat_minor": 2
}
