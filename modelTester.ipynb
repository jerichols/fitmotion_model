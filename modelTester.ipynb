{
 "cells": [
  {
   "cell_type": "code",
   "execution_count": 1,
   "metadata": {},
   "outputs": [],
   "source": [
    "import os\n",
    "import tensorflow as tf\n",
    "import numpy as np\n",
    "import pandas as pd\n",
    "from tensorflow import keras"
   ]
  },
  {
   "cell_type": "markdown",
   "metadata": {},
   "source": [
    "# Load Model    "
   ]
  },
  {
   "cell_type": "code",
   "execution_count": 12,
   "metadata": {},
   "outputs": [
    {
     "name": "stderr",
     "output_type": "stream",
     "text": [
      "c:\\ProgramData\\miniconda3\\envs\\tf_testing\\lib\\site-packages\\keras\\src\\saving\\saving_lib.py:415: UserWarning: Skipping variable loading for optimizer 'rmsprop', because it has 9 variables whereas the saved optimizer has 16 variables. \n",
      "  saveable.load_own_variables(weights_store.get(inner_path))\n"
     ]
    }
   ],
   "source": [
    "# Load the model\n",
    "model = keras.models.load_model('fitmotion_model.keras')"
   ]
  },
  {
   "cell_type": "markdown",
   "metadata": {},
   "source": [
    "# Loading The Data"
   ]
  },
  {
   "cell_type": "code",
   "execution_count": 16,
   "metadata": {},
   "outputs": [],
   "source": [
    "labels = ['dws', 'jog', 'sit', 'std', 'ups', 'wlk']"
   ]
  },
  {
   "cell_type": "code",
   "execution_count": 23,
   "metadata": {},
   "outputs": [
    {
     "data": {
      "text/html": [
       "<div>\n",
       "<style scoped>\n",
       "    .dataframe tbody tr th:only-of-type {\n",
       "        vertical-align: middle;\n",
       "    }\n",
       "\n",
       "    .dataframe tbody tr th {\n",
       "        vertical-align: top;\n",
       "    }\n",
       "\n",
       "    .dataframe thead th {\n",
       "        text-align: right;\n",
       "    }\n",
       "</style>\n",
       "<table border=\"1\" class=\"dataframe\">\n",
       "  <thead>\n",
       "    <tr style=\"text-align: right;\">\n",
       "      <th></th>\n",
       "      <th>attitude.roll</th>\n",
       "      <th>attitude.pitch</th>\n",
       "      <th>attitude.yaw</th>\n",
       "      <th>gravity.x</th>\n",
       "      <th>gravity.y</th>\n",
       "      <th>gravity.z</th>\n",
       "      <th>rotationRate.x</th>\n",
       "      <th>rotationRate.y</th>\n",
       "      <th>rotationRate.z</th>\n",
       "      <th>userAcceleration.x</th>\n",
       "      <th>userAcceleration.y</th>\n",
       "      <th>userAcceleration.z</th>\n",
       "    </tr>\n",
       "  </thead>\n",
       "  <tbody>\n",
       "    <tr>\n",
       "      <th>0</th>\n",
       "      <td>1.310373</td>\n",
       "      <td>-1.309689</td>\n",
       "      <td>1.442206</td>\n",
       "      <td>0.249436</td>\n",
       "      <td>0.966105</td>\n",
       "      <td>-0.066468</td>\n",
       "      <td>2.203753</td>\n",
       "      <td>-2.326351</td>\n",
       "      <td>-0.293739</td>\n",
       "      <td>-0.157547</td>\n",
       "      <td>0.178961</td>\n",
       "      <td>0.359559</td>\n",
       "    </tr>\n",
       "    <tr>\n",
       "      <th>1</th>\n",
       "      <td>1.097026</td>\n",
       "      <td>-1.295214</td>\n",
       "      <td>1.256769</td>\n",
       "      <td>0.242127</td>\n",
       "      <td>0.962267</td>\n",
       "      <td>-0.124143</td>\n",
       "      <td>2.707412</td>\n",
       "      <td>-1.613123</td>\n",
       "      <td>-0.071081</td>\n",
       "      <td>0.066085</td>\n",
       "      <td>0.502378</td>\n",
       "      <td>0.430433</td>\n",
       "    </tr>\n",
       "    <tr>\n",
       "      <th>2</th>\n",
       "      <td>0.917966</td>\n",
       "      <td>-1.265394</td>\n",
       "      <td>1.100944</td>\n",
       "      <td>0.238842</td>\n",
       "      <td>0.953726</td>\n",
       "      <td>-0.182638</td>\n",
       "      <td>2.663869</td>\n",
       "      <td>-1.221393</td>\n",
       "      <td>0.039208</td>\n",
       "      <td>0.120747</td>\n",
       "      <td>0.856165</td>\n",
       "      <td>0.246892</td>\n",
       "    </tr>\n",
       "    <tr>\n",
       "      <th>3</th>\n",
       "      <td>0.777748</td>\n",
       "      <td>-1.234542</td>\n",
       "      <td>0.972128</td>\n",
       "      <td>0.231515</td>\n",
       "      <td>0.943997</td>\n",
       "      <td>-0.235085</td>\n",
       "      <td>2.444950</td>\n",
       "      <td>-0.694995</td>\n",
       "      <td>-0.341146</td>\n",
       "      <td>0.084631</td>\n",
       "      <td>0.667331</td>\n",
       "      <td>0.312035</td>\n",
       "    </tr>\n",
       "    <tr>\n",
       "      <th>4</th>\n",
       "      <td>0.661369</td>\n",
       "      <td>-1.202601</td>\n",
       "      <td>0.858087</td>\n",
       "      <td>0.221066</td>\n",
       "      <td>0.932978</td>\n",
       "      <td>-0.284037</td>\n",
       "      <td>2.520765</td>\n",
       "      <td>-0.663370</td>\n",
       "      <td>-0.323566</td>\n",
       "      <td>0.096210</td>\n",
       "      <td>0.278890</td>\n",
       "      <td>0.300409</td>\n",
       "    </tr>\n",
       "    <tr>\n",
       "      <th>...</th>\n",
       "      <td>...</td>\n",
       "      <td>...</td>\n",
       "      <td>...</td>\n",
       "      <td>...</td>\n",
       "      <td>...</td>\n",
       "      <td>...</td>\n",
       "      <td>...</td>\n",
       "      <td>...</td>\n",
       "      <td>...</td>\n",
       "      <td>...</td>\n",
       "      <td>...</td>\n",
       "      <td>...</td>\n",
       "    </tr>\n",
       "    <tr>\n",
       "      <th>5609</th>\n",
       "      <td>0.350140</td>\n",
       "      <td>-0.838861</td>\n",
       "      <td>1.381347</td>\n",
       "      <td>0.229246</td>\n",
       "      <td>0.743883</td>\n",
       "      <td>-0.627750</td>\n",
       "      <td>1.003466</td>\n",
       "      <td>-2.725248</td>\n",
       "      <td>1.230260</td>\n",
       "      <td>-0.113920</td>\n",
       "      <td>-0.371568</td>\n",
       "      <td>0.837009</td>\n",
       "    </tr>\n",
       "    <tr>\n",
       "      <th>5610</th>\n",
       "      <td>0.309553</td>\n",
       "      <td>-0.815521</td>\n",
       "      <td>1.406731</td>\n",
       "      <td>0.208820</td>\n",
       "      <td>0.728083</td>\n",
       "      <td>-0.652898</td>\n",
       "      <td>0.748522</td>\n",
       "      <td>-3.078591</td>\n",
       "      <td>1.102882</td>\n",
       "      <td>-0.147342</td>\n",
       "      <td>-0.473368</td>\n",
       "      <td>0.891042</td>\n",
       "    </tr>\n",
       "    <tr>\n",
       "      <th>5611</th>\n",
       "      <td>0.264249</td>\n",
       "      <td>-0.798185</td>\n",
       "      <td>1.424170</td>\n",
       "      <td>0.182306</td>\n",
       "      <td>0.716091</td>\n",
       "      <td>-0.673770</td>\n",
       "      <td>0.610296</td>\n",
       "      <td>-2.728948</td>\n",
       "      <td>0.632519</td>\n",
       "      <td>-0.123407</td>\n",
       "      <td>-0.572582</td>\n",
       "      <td>0.897921</td>\n",
       "    </tr>\n",
       "    <tr>\n",
       "      <th>5612</th>\n",
       "      <td>0.225291</td>\n",
       "      <td>-0.786542</td>\n",
       "      <td>1.432158</td>\n",
       "      <td>0.157778</td>\n",
       "      <td>0.707915</td>\n",
       "      <td>-0.688440</td>\n",
       "      <td>0.384940</td>\n",
       "      <td>-1.899222</td>\n",
       "      <td>0.326507</td>\n",
       "      <td>-0.200060</td>\n",
       "      <td>-0.342818</td>\n",
       "      <td>0.818216</td>\n",
       "    </tr>\n",
       "    <tr>\n",
       "      <th>5613</th>\n",
       "      <td>0.201362</td>\n",
       "      <td>-0.782184</td>\n",
       "      <td>1.439465</td>\n",
       "      <td>0.141877</td>\n",
       "      <td>0.704831</td>\n",
       "      <td>-0.695034</td>\n",
       "      <td>0.047636</td>\n",
       "      <td>-1.220546</td>\n",
       "      <td>0.328622</td>\n",
       "      <td>-0.187439</td>\n",
       "      <td>-0.321545</td>\n",
       "      <td>0.817776</td>\n",
       "    </tr>\n",
       "  </tbody>\n",
       "</table>\n",
       "<p>5614 rows × 12 columns</p>\n",
       "</div>"
      ],
      "text/plain": [
       "      attitude.roll  attitude.pitch  attitude.yaw  gravity.x  gravity.y  \\\n",
       "0          1.310373       -1.309689      1.442206   0.249436   0.966105   \n",
       "1          1.097026       -1.295214      1.256769   0.242127   0.962267   \n",
       "2          0.917966       -1.265394      1.100944   0.238842   0.953726   \n",
       "3          0.777748       -1.234542      0.972128   0.231515   0.943997   \n",
       "4          0.661369       -1.202601      0.858087   0.221066   0.932978   \n",
       "...             ...             ...           ...        ...        ...   \n",
       "5609       0.350140       -0.838861      1.381347   0.229246   0.743883   \n",
       "5610       0.309553       -0.815521      1.406731   0.208820   0.728083   \n",
       "5611       0.264249       -0.798185      1.424170   0.182306   0.716091   \n",
       "5612       0.225291       -0.786542      1.432158   0.157778   0.707915   \n",
       "5613       0.201362       -0.782184      1.439465   0.141877   0.704831   \n",
       "\n",
       "      gravity.z  rotationRate.x  rotationRate.y  rotationRate.z  \\\n",
       "0     -0.066468        2.203753       -2.326351       -0.293739   \n",
       "1     -0.124143        2.707412       -1.613123       -0.071081   \n",
       "2     -0.182638        2.663869       -1.221393        0.039208   \n",
       "3     -0.235085        2.444950       -0.694995       -0.341146   \n",
       "4     -0.284037        2.520765       -0.663370       -0.323566   \n",
       "...         ...             ...             ...             ...   \n",
       "5609  -0.627750        1.003466       -2.725248        1.230260   \n",
       "5610  -0.652898        0.748522       -3.078591        1.102882   \n",
       "5611  -0.673770        0.610296       -2.728948        0.632519   \n",
       "5612  -0.688440        0.384940       -1.899222        0.326507   \n",
       "5613  -0.695034        0.047636       -1.220546        0.328622   \n",
       "\n",
       "      userAcceleration.x  userAcceleration.y  userAcceleration.z  \n",
       "0              -0.157547            0.178961            0.359559  \n",
       "1               0.066085            0.502378            0.430433  \n",
       "2               0.120747            0.856165            0.246892  \n",
       "3               0.084631            0.667331            0.312035  \n",
       "4               0.096210            0.278890            0.300409  \n",
       "...                  ...                 ...                 ...  \n",
       "5609           -0.113920           -0.371568            0.837009  \n",
       "5610           -0.147342           -0.473368            0.891042  \n",
       "5611           -0.123407           -0.572582            0.897921  \n",
       "5612           -0.200060           -0.342818            0.818216  \n",
       "5613           -0.187439           -0.321545            0.817776  \n",
       "\n",
       "[5614 rows x 12 columns]"
      ]
     },
     "execution_count": 23,
     "metadata": {},
     "output_type": "execute_result"
    }
   ],
   "source": [
    "# Load testing data\n",
    "data_url = '/wlk_8/sub_2.csv'\n",
    "df = pd.read_csv('dataset' + data_url)\n",
    "df.drop('Unnamed: 0', axis=1, inplace=True)\n",
    "df"
   ]
  },
  {
   "cell_type": "markdown",
   "metadata": {},
   "source": [
    "# Preprocessing Data"
   ]
  },
  {
   "cell_type": "code",
   "execution_count": 17,
   "metadata": {},
   "outputs": [],
   "source": [
    "# Prepare the data\n",
    "WINDOW_LENGTH = 150\n",
    "STRIDE_LENGTH = 10\n",
    "NUM_CLASSES = 6\n",
    "NUM_FEATURES = 12\n",
    "BATCH_SIZE = 100\n",
    "EPOCHS_SIZE = 10"
   ]
  },
  {
   "cell_type": "code",
   "execution_count": 24,
   "metadata": {},
   "outputs": [],
   "source": [
    "from scipy.stats import mode\n",
    "\n",
    "def sequence_generator(x, length, stride):\n",
    "    seq_x = []\n",
    "    data_length = len(x)\n",
    "\n",
    "    for i in range(0, data_length - length + 1, stride):\n",
    "        input_sequence = x.iloc[i : i + length]\n",
    "        seq_x.append(input_sequence)\n",
    "    return np.array(seq_x)"
   ]
  },
  {
   "cell_type": "code",
   "execution_count": 25,
   "metadata": {},
   "outputs": [
    {
     "data": {
      "image/png": "[encoded data removed]",
      "text/plain": [
       "<Figure size 640x480 with 1 Axes>"
      ]
     },
     "metadata": {},
     "output_type": "display_data"
    }
   ],
   "source": [
    "# Checking data\n",
    "import matplotlib.pyplot as plt\n",
    "\n",
    "tx = sequence_generator(df, WINDOW_LENGTH, STRIDE_LENGTH)\n",
    "plt.plot(tx[0][0:150, 0])\n",
    "plt.show()"
   ]
  },
  {
   "cell_type": "markdown",
   "metadata": {},
   "source": [
    "# Prediction"
   ]
  },
  {
   "cell_type": "code",
   "execution_count": 41,
   "metadata": {},
   "outputs": [
    {
     "name": "stdout",
     "output_type": "stream",
     "text": [
      "\u001b[1m18/18\u001b[0m \u001b[32m━━━━━━━━━━━━━━━━━━━━\u001b[0m\u001b[37m\u001b[0m \u001b[1m0s\u001b[0m 5ms/step\n"
     ]
    },
    {
     "data": {
      "text/plain": [
       "5"
      ]
     },
     "execution_count": 41,
     "metadata": {},
     "output_type": "execute_result"
    }
   ],
   "source": [
    "# Predict the data\n",
    "y_pred = model.predict(tx)\n",
    "\n",
    "# Get the most frequent label\n",
    "y_pred = np.argmax(y_pred, axis=1)\n",
    "y_pred = mode(y_pred)[0]\n",
    "labels[y_pred]"
   ]
  }
 ],
 "metadata": {
  "kernelspec": {
   "display_name": "base",
   "language": "python",
   "name": "python3"
  },
  "language_info": {
   "codemirror_mode": {
    "name": "ipython",
    "version": 3
   },
   "file_extension": ".py",
   "mimetype": "text/x-python",
   "name": "python",
   "nbconvert_exporter": "python",
   "pygments_lexer": "ipython3",
   "version": "3.10.14"
  }
 },
 "nbformat": 4,
 "nbformat_minor": 2
}
